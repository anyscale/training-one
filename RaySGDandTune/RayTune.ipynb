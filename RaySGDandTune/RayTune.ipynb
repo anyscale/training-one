{
 "cells": [
  {
   "cell_type": "code",
   "execution_count": 1,
   "id": "262261c6",
   "metadata": {},
   "outputs": [
    {
     "name": "stderr",
     "output_type": "stream",
     "text": [
      "2021-08-30 12:48:24,163\tINFO worker.py:801 -- Connecting to existing Ray cluster at address: 172.31.107.75:6379\n",
      "2021-08-30 13:43:07,074\tWARNING worker.py:1189 -- The node with node id: e170ca6bacf130cd5cfa9fac56173fa8f34c45ebd1622af751841574 and ip: 172.31.28.74 has been marked dead because the detector has missed too many heartbeats from it. This can happen when a raylet crashes unexpectedly or has lagging heartbeats.\n",
      "2021-08-30 13:43:08,073\tWARNING worker.py:1189 -- The node with node id: d63a4dd36a21f2cc36535646be3d69a5bf8d865fcf101efda595d9c9 and ip: 172.31.24.163 has been marked dead because the detector has missed too many heartbeats from it. This can happen when a raylet crashes unexpectedly or has lagging heartbeats.\n"
     ]
    }
   ],
   "source": [
    "import ray\n",
    "ray.init()\n",
    "from ray import tune\n"
   ]
  },
  {
   "cell_type": "code",
   "execution_count": 2,
   "id": "a9e34f73",
   "metadata": {},
   "outputs": [
    {
     "data": {
      "text/plain": [
       "'1.5.2'"
      ]
     },
     "execution_count": 2,
     "metadata": {},
     "output_type": "execute_result"
    }
   ],
   "source": [
    "ray.__version__"
   ]
  },
  {
   "cell_type": "code",
   "execution_count": 13,
   "id": "cfdadee8",
   "metadata": {},
   "outputs": [],
   "source": [
    "import torch\n",
    "import torch.nn as nn\n",
    "import seaborn as sns\n",
    "import numpy as np\n",
    "import pandas as pd\n",
    "import matplotlib.pyplot as plt\n",
    "from sklearn.metrics import max_error\n",
    "%matplotlib inline"
   ]
  },
  {
   "cell_type": "code",
   "execution_count": 4,
   "id": "4284de82",
   "metadata": {},
   "outputs": [
    {
     "data": {
      "text/plain": [
       "['anagrams',\n",
       " 'anscombe',\n",
       " 'attention',\n",
       " 'brain_networks',\n",
       " 'car_crashes',\n",
       " 'diamonds',\n",
       " 'dots',\n",
       " 'exercise',\n",
       " 'flights',\n",
       " 'fmri',\n",
       " 'gammas',\n",
       " 'geyser',\n",
       " 'iris',\n",
       " 'mpg',\n",
       " 'penguins',\n",
       " 'planets',\n",
       " 'tips',\n",
       " 'titanic']"
      ]
     },
     "execution_count": 4,
     "metadata": {},
     "output_type": "execute_result"
    }
   ],
   "source": [
    "sns.get_dataset_names()"
   ]
  },
  {
   "cell_type": "code",
   "execution_count": 5,
   "id": "ade91a0e",
   "metadata": {},
   "outputs": [
    {
     "data": {
      "text/html": [
       "<div>\n",
       "<style scoped>\n",
       "    .dataframe tbody tr th:only-of-type {\n",
       "        vertical-align: middle;\n",
       "    }\n",
       "\n",
       "    .dataframe tbody tr th {\n",
       "        vertical-align: top;\n",
       "    }\n",
       "\n",
       "    .dataframe thead th {\n",
       "        text-align: right;\n",
       "    }\n",
       "</style>\n",
       "<table border=\"1\" class=\"dataframe\">\n",
       "  <thead>\n",
       "    <tr style=\"text-align: right;\">\n",
       "      <th></th>\n",
       "      <th>year</th>\n",
       "      <th>month</th>\n",
       "      <th>passengers</th>\n",
       "    </tr>\n",
       "  </thead>\n",
       "  <tbody>\n",
       "    <tr>\n",
       "      <th>0</th>\n",
       "      <td>1949</td>\n",
       "      <td>Jan</td>\n",
       "      <td>112</td>\n",
       "    </tr>\n",
       "    <tr>\n",
       "      <th>1</th>\n",
       "      <td>1949</td>\n",
       "      <td>Feb</td>\n",
       "      <td>118</td>\n",
       "    </tr>\n",
       "    <tr>\n",
       "      <th>2</th>\n",
       "      <td>1949</td>\n",
       "      <td>Mar</td>\n",
       "      <td>132</td>\n",
       "    </tr>\n",
       "    <tr>\n",
       "      <th>3</th>\n",
       "      <td>1949</td>\n",
       "      <td>Apr</td>\n",
       "      <td>129</td>\n",
       "    </tr>\n",
       "    <tr>\n",
       "      <th>4</th>\n",
       "      <td>1949</td>\n",
       "      <td>May</td>\n",
       "      <td>121</td>\n",
       "    </tr>\n",
       "  </tbody>\n",
       "</table>\n",
       "</div>"
      ],
      "text/plain": [
       "   year month  passengers\n",
       "0  1949   Jan         112\n",
       "1  1949   Feb         118\n",
       "2  1949   Mar         132\n",
       "3  1949   Apr         129\n",
       "4  1949   May         121"
      ]
     },
     "execution_count": 5,
     "metadata": {},
     "output_type": "execute_result"
    }
   ],
   "source": [
    "flight_data = sns.load_dataset(\"flights\")\n",
    "flight_data.head()\n"
   ]
  },
  {
   "cell_type": "code",
   "execution_count": 6,
   "id": "97673dbf",
   "metadata": {},
   "outputs": [
    {
     "data": {
      "text/plain": [
       "[<matplotlib.lines.Line2D at 0x7f100329af50>]"
      ]
     },
     "execution_count": 6,
     "metadata": {},
     "output_type": "execute_result"
    },
    {
     "data": {
      "image/png": "[encoded data removed]",
      "text/plain": [
       "<Figure size 1080x360 with 1 Axes>"
      ]
     },
     "metadata": {
      "needs_background": "light"
     },
     "output_type": "display_data"
    }
   ],
   "source": [
    "fig_size = plt.rcParams[\"figure.figsize\"]\n",
    "fig_size[0] = 15\n",
    "fig_size[1] = 5\n",
    "plt.rcParams[\"figure.figsize\"] = fig_size\n",
    "plt.title('Month vs Passenger')\n",
    "plt.ylabel('Total Passengers')\n",
    "plt.xlabel('Months')\n",
    "plt.grid(True)\n",
    "plt.autoscale(axis='x',tight=True)\n",
    "plt.plot(flight_data['passengers'])\n"
   ]
  },
  {
   "cell_type": "code",
   "execution_count": 7,
   "id": "cfe95411",
   "metadata": {},
   "outputs": [],
   "source": [
    "all_data = flight_data['passengers'].values.astype(float)\n",
    "test_data_size = 12\n",
    "from sklearn.preprocessing import MinMaxScaler\n",
    "scaler = MinMaxScaler()\n",
    "all_data_normalized = scaler.fit_transform(all_data .reshape(-1, 1))\n",
    "train_data_normalized  = all_data_normalized[:-test_data_size]\n",
    "test_data_normalized = all_data_normalized[-test_data_size:]"
   ]
  },
  {
   "cell_type": "code",
   "execution_count": 14,
   "id": "c9c0e69f",
   "metadata": {},
   "outputs": [],
   "source": [
    "train_data_normalized = torch.FloatTensor(train_data_normalized).view(-1)\n"
   ]
  },
  {
   "cell_type": "code",
   "execution_count": 15,
   "id": "80f69028",
   "metadata": {},
   "outputs": [],
   "source": [
    "train_window = 12\n",
    "def create_inout_sequences(input_data, tw):\n",
    "    inout_seq = []\n",
    "    L = len(input_data)\n",
    "    for i in range(L-tw):\n",
    "        train_seq = input_data[i:i+tw]\n",
    "        train_label = input_data[i+tw:i+tw+1]\n",
    "        inout_seq.append((train_seq ,train_label))\n",
    "    return inout_seq\n",
    "train_inout_seq = create_inout_sequences(train_data_normalized, train_window)\n"
   ]
  },
  {
   "cell_type": "code",
   "execution_count": 16,
   "id": "bc2c0cff",
   "metadata": {},
   "outputs": [],
   "source": [
    "class LSTM(nn.Module):\n",
    "    def __init__(self, input_size=1, hidden_layer_size=100, output_size=1):\n",
    "        super().__init__()\n",
    "        self.hidden_layer_size = hidden_layer_size\n",
    "\n",
    "        self.lstm = nn.LSTM(input_size, hidden_layer_size)\n",
    "\n",
    "        self.linear = nn.Linear(hidden_layer_size, output_size)\n",
    "\n",
    "        self.hidden_cell = (torch.zeros(1,1,self.hidden_layer_size),\n",
    "                            torch.zeros(1,1,self.hidden_layer_size))\n",
    "\n",
    "    def forward(self, input_seq):\n",
    "        lstm_out, self.hidden_cell = self.lstm(input_seq.view(len(input_seq) ,1, -1), self.hidden_cell)\n",
    "        predictions = self.linear(lstm_out.view(len(input_seq), -1))\n",
    "        return predictions[-1]"
   ]
  },
  {
   "cell_type": "code",
   "execution_count": 23,
   "id": "64778344",
   "metadata": {},
   "outputs": [],
   "source": [
    "import time\n",
    "def train(model, optimizer, loss_function, epochs):\n",
    "#     cur = time.time()\n",
    "    for i in range(epochs):\n",
    "        for seq, labels in train_inout_seq:\n",
    "            optimizer.zero_grad()\n",
    "            model.hidden_cell = (torch.zeros(1, 1, model.hidden_layer_size),\n",
    "                        torch.zeros(1, 1, model.hidden_layer_size))\n",
    "            y_pred = model(seq)\n",
    "            single_loss = loss_function(y_pred, labels)\n",
    "            single_loss.backward()\n",
    "            optimizer.step()\n",
    "#         if i%25 == 1:\n",
    "#             print(f'epoch: {i:3} loss: {single_loss.item():10.8f} execution time: {time.time() - cur}')\n",
    "#             cur = time.time()\n",
    "    print(f'epoch: {i:3} loss: {single_loss.item():10.10f}')\n",
    "def test(model, test_input, truth):\n",
    "    model.eval()\n",
    "    for i in range(train_window):\n",
    "        seq = torch.FloatTensor(test_input[-train_window:])\n",
    "        with torch.no_grad():\n",
    "            model.hidden = (torch.zeros(1, 1, model.hidden_layer_size),\n",
    "                        torch.zeros(1, 1, model.hidden_layer_size))\n",
    "            test_input.append(model(seq).item())\n",
    "    return max_error(test_input[train_window:],test_data_normalized)\n",
    "    \n",
    "\n",
    "#     actual_predictions = scaler.inverse_transform( ).reshape(-1, 1))\n",
    "#     print(actual_predictions)\n",
    "\n",
    "def orchestrate(config):\n",
    "    \n",
    "    epochs = 50\n",
    "    model = LSTM()\n",
    "    loss_function = nn.MSELoss()\n",
    "    optimizer = torch.optim.Adam(model.parameters(), lr=config[\"lr\"])\n",
    "    train(model, optimizer, loss_function, epochs)\n",
    "    test_inputs = train_data_normalized[-train_window:].tolist()\n",
    "\n",
    "    error = test(model, test_inputs, test_data_normalized)\n",
    "    tune.report(error = error)\n",
    "    print(error)"
   ]
  },
  {
   "cell_type": "code",
   "execution_count": 24,
   "id": "60ee6790",
   "metadata": {},
   "outputs": [
    {
     "data": {
      "text/html": [
       "== Status ==<br>Memory usage on this node: 4.4/30.9 GiB<br>Using FIFO scheduling algorithm.<br>Resources requested: 0/8 CPUs, 0/0 GPUs, 0.0/18.36 GiB heap, 0.0/9.18 GiB objects<br>Result logdir: /home/ray/ray_results/orchestrate_2021-08-30_14-49-51<br>Number of trials: 4/4 (4 PENDING)<br><table>\n",
       "<thead>\n",
       "<tr><th>Trial name             </th><th>status  </th><th>loc  </th><th style=\"text-align: right;\">    lr</th></tr>\n",
       "</thead>\n",
       "<tbody>\n",
       "<tr><td>orchestrate_33ed1_00000</td><td>PENDING </td><td>     </td><td style=\"text-align: right;\">0.1   </td></tr>\n",
       "<tr><td>orchestrate_33ed1_00001</td><td>PENDING </td><td>     </td><td style=\"text-align: right;\">0.01  </td></tr>\n",
       "<tr><td>orchestrate_33ed1_00002</td><td>PENDING </td><td>     </td><td style=\"text-align: right;\">0.001 </td></tr>\n",
       "<tr><td>orchestrate_33ed1_00003</td><td>PENDING </td><td>     </td><td style=\"text-align: right;\">0.0001</td></tr>\n",
       "</tbody>\n",
       "</table><br><br>"
      ],
      "text/plain": [
       "<IPython.core.display.HTML object>"
      ]
     },
     "metadata": {},
     "output_type": "display_data"
    },
    {
     "name": "stdout",
     "output_type": "stream",
     "text": [
      "Result for orchestrate_33ed1_00001:\n",
      "  date: 2021-08-30_14-50-15\n",
      "  done: false\n",
      "  error: 0.33125758171081543\n",
      "  experiment_id: 15f49f5dce0645d0af89ee5b11f1436c\n",
      "  hostname: ip-172-31-107-75\n",
      "  iterations_since_restore: 1\n",
      "  node_ip: 172.31.107.75\n",
      "  pid: 24517\n",
      "  time_since_restore: 21.583272218704224\n",
      "  time_this_iter_s: 21.583272218704224\n",
      "  time_total_s: 21.583272218704224\n",
      "  timestamp: 1630360215\n",
      "  timesteps_since_restore: 0\n",
      "  training_iteration: 1\n",
      "  trial_id: 33ed1_00001\n",
      "  \n"
     ]
    },
    {
     "data": {
      "text/html": [
       "== Status ==<br>Memory usage on this node: 5.8/30.9 GiB<br>Using FIFO scheduling algorithm.<br>Resources requested: 4.0/8 CPUs, 0/0 GPUs, 0.0/18.36 GiB heap, 0.0/9.18 GiB objects<br>Result logdir: /home/ray/ray_results/orchestrate_2021-08-30_14-49-51<br>Number of trials: 4/4 (4 RUNNING)<br><table>\n",
       "<thead>\n",
       "<tr><th>Trial name             </th><th>status  </th><th>loc                </th><th style=\"text-align: right;\">    lr</th><th style=\"text-align: right;\">  iter</th><th style=\"text-align: right;\">  total time (s)</th><th style=\"text-align: right;\">   error</th></tr>\n",
       "</thead>\n",
       "<tbody>\n",
       "<tr><td>orchestrate_33ed1_00000</td><td>RUNNING </td><td>                   </td><td style=\"text-align: right;\">0.1   </td><td style=\"text-align: right;\">      </td><td style=\"text-align: right;\">                </td><td style=\"text-align: right;\">        </td></tr>\n",
       "<tr><td>orchestrate_33ed1_00001</td><td>RUNNING </td><td>172.31.107.75:24517</td><td style=\"text-align: right;\">0.01  </td><td style=\"text-align: right;\">     1</td><td style=\"text-align: right;\">         21.5833</td><td style=\"text-align: right;\">0.331258</td></tr>\n",
       "<tr><td>orchestrate_33ed1_00002</td><td>RUNNING </td><td>                   </td><td style=\"text-align: right;\">0.001 </td><td style=\"text-align: right;\">      </td><td style=\"text-align: right;\">                </td><td style=\"text-align: right;\">        </td></tr>\n",
       "<tr><td>orchestrate_33ed1_00003</td><td>RUNNING </td><td>                   </td><td style=\"text-align: right;\">0.0001</td><td style=\"text-align: right;\">      </td><td style=\"text-align: right;\">                </td><td style=\"text-align: right;\">        </td></tr>\n",
       "</tbody>\n",
       "</table><br><br>"
      ],
      "text/plain": [
       "<IPython.core.display.HTML object>"
      ]
     },
     "metadata": {},
     "output_type": "display_data"
    },
    {
     "name": "stdout",
     "output_type": "stream",
     "text": [
      "Result for orchestrate_33ed1_00001:\n",
      "  date: 2021-08-30_14-50-15\n",
      "  done: true\n",
      "  error: 0.33125758171081543\n",
      "  experiment_id: 15f49f5dce0645d0af89ee5b11f1436c\n",
      "  experiment_tag: 1_lr=0.01\n",
      "  hostname: ip-172-31-107-75\n",
      "  iterations_since_restore: 1\n",
      "  node_ip: 172.31.107.75\n",
      "  pid: 24517\n",
      "  time_since_restore: 21.583272218704224\n",
      "  time_this_iter_s: 21.583272218704224\n",
      "  time_total_s: 21.583272218704224\n",
      "  timestamp: 1630360215\n",
      "  timesteps_since_restore: 0\n",
      "  training_iteration: 1\n",
      "  trial_id: 33ed1_00001\n",
      "  \n",
      "\u001b[2m\u001b[36m(pid=24517)\u001b[0m epoch:  49 loss: 0.0018555400\n",
      "\u001b[2m\u001b[36m(pid=24517)\u001b[0m 0.33125758171081543\n",
      "Result for orchestrate_33ed1_00000:\n",
      "  date: 2021-08-30_14-50-15\n",
      "  done: false\n",
      "  error: 0.7671921253204346\n",
      "  experiment_id: 4c1ef44c34184376b57b8eb9b36a1565\n",
      "  hostname: ip-172-31-107-75\n",
      "  iterations_since_restore: 1\n",
      "  node_ip: 172.31.107.75\n",
      "  pid: 24514\n",
      "  time_since_restore: 21.36300301551819\n",
      "  time_this_iter_s: 21.36300301551819\n",
      "  time_total_s: 21.36300301551819\n",
      "  timestamp: 1630360215\n",
      "  timesteps_since_restore: 0\n",
      "  training_iteration: 1\n",
      "  trial_id: 33ed1_00000\n",
      "  \n",
      "Result for orchestrate_33ed1_00000:\n",
      "  date: 2021-08-30_14-50-15\n",
      "  done: true\n",
      "  error: 0.7671921253204346\n",
      "  experiment_id: 4c1ef44c34184376b57b8eb9b36a1565\n",
      "  experiment_tag: 0_lr=0.1\n",
      "  hostname: ip-172-31-107-75\n",
      "  iterations_since_restore: 1\n",
      "  node_ip: 172.31.107.75\n",
      "  pid: 24514\n",
      "  time_since_restore: 21.36300301551819\n",
      "  time_this_iter_s: 21.36300301551819\n",
      "  time_total_s: 21.36300301551819\n",
      "  timestamp: 1630360215\n",
      "  timesteps_since_restore: 0\n",
      "  training_iteration: 1\n",
      "  trial_id: 33ed1_00000\n",
      "  \n",
      "\u001b[2m\u001b[36m(pid=24514)\u001b[0m epoch:  49 loss: 0.0440958217\n",
      "\u001b[2m\u001b[36m(pid=24514)\u001b[0m 0.7671921253204346\n",
      "Result for orchestrate_33ed1_00002:\n",
      "  date: 2021-08-30_14-50-16\n",
      "  done: false\n",
      "  error: 0.8414702360234205\n",
      "  experiment_id: 2330042f452142d4b29977fc92bcf4fe\n",
      "  hostname: ip-172-31-107-75\n",
      "  iterations_since_restore: 1\n",
      "  node_ip: 172.31.107.75\n",
      "  pid: 24512\n",
      "  time_since_restore: 22.381038188934326\n",
      "  time_this_iter_s: 22.381038188934326\n",
      "  time_total_s: 22.381038188934326\n",
      "  timestamp: 1630360216\n",
      "  timesteps_since_restore: 0\n",
      "  training_iteration: 1\n",
      "  trial_id: 33ed1_00002\n",
      "  \n",
      "Result for orchestrate_33ed1_00002:\n",
      "  date: 2021-08-30_14-50-16\n",
      "  done: true\n",
      "  error: 0.8414702360234205\n",
      "  experiment_id: 2330042f452142d4b29977fc92bcf4fe\n",
      "  experiment_tag: 2_lr=0.001\n",
      "  hostname: ip-172-31-107-75\n",
      "  iterations_since_restore: 1\n",
      "  node_ip: 172.31.107.75\n",
      "  pid: 24512\n",
      "  time_since_restore: 22.381038188934326\n",
      "  time_this_iter_s: 22.381038188934326\n",
      "  time_total_s: 22.381038188934326\n",
      "  timestamp: 1630360216\n",
      "  timesteps_since_restore: 0\n",
      "  training_iteration: 1\n",
      "  trial_id: 33ed1_00002\n",
      "  \n",
      "\u001b[2m\u001b[36m(pid=24512)\u001b[0m epoch:  49 loss: 0.0000000003\n",
      "\u001b[2m\u001b[36m(pid=24512)\u001b[0m 0.8414702360234205\n",
      "Result for orchestrate_33ed1_00003:\n",
      "  date: 2021-08-30_14-50-18\n",
      "  done: false\n",
      "  error: 0.8945068065724318\n",
      "  experiment_id: 5cf27314fde54493a19580d5db73ddf2\n",
      "  hostname: ip-172-31-107-75\n",
      "  iterations_since_restore: 1\n",
      "  node_ip: 172.31.107.75\n",
      "  pid: 24515\n",
      "  time_since_restore: 24.508620500564575\n",
      "  time_this_iter_s: 24.508620500564575\n",
      "  time_total_s: 24.508620500564575\n",
      "  timestamp: 1630360218\n",
      "  timesteps_since_restore: 0\n",
      "  training_iteration: 1\n",
      "  trial_id: 33ed1_00003\n",
      "  \n",
      "Result for orchestrate_33ed1_00003:\n",
      "  date: 2021-08-30_14-50-18\n",
      "  done: true\n",
      "  error: 0.8945068065724318\n",
      "  experiment_id: 5cf27314fde54493a19580d5db73ddf2\n",
      "  experiment_tag: 3_lr=0.0001\n",
      "  hostname: ip-172-31-107-75\n",
      "  iterations_since_restore: 1\n",
      "  node_ip: 172.31.107.75\n",
      "  pid: 24515\n",
      "  time_since_restore: 24.508620500564575\n",
      "  time_this_iter_s: 24.508620500564575\n",
      "  time_total_s: 24.508620500564575\n",
      "  timestamp: 1630360218\n",
      "  timesteps_since_restore: 0\n",
      "  training_iteration: 1\n",
      "  trial_id: 33ed1_00003\n",
      "  \n",
      "\u001b[2m\u001b[36m(pid=24515)\u001b[0m epoch:  49 loss: 0.0021023571\n",
      "\u001b[2m\u001b[36m(pid=24515)\u001b[0m 0.8945068065724318\n"
     ]
    },
    {
     "data": {
      "text/html": [
       "== Status ==<br>Memory usage on this node: 4.6/30.9 GiB<br>Using FIFO scheduling algorithm.<br>Resources requested: 0/8 CPUs, 0/0 GPUs, 0.0/18.36 GiB heap, 0.0/9.18 GiB objects (0.0/1.0 CPU_group_0_b0c69c7915f97ab00a0e4fd3adc7ec1d, 0.0/1.0 CPU_group_8e19895ff6513e782ea44b6212c4c9b2, 0.0/1.0 CPU_group_796f302504bf045010b7150c6d6318a2, 0.0/1.0 CPU_group_0_796f302504bf045010b7150c6d6318a2, 0.0/1.0 CPU_group_9607097dd8bbd856e654414f07cafe5e, 0.0/1.0 CPU_group_b0c69c7915f97ab00a0e4fd3adc7ec1d, 0.0/1.0 CPU_group_0_8e19895ff6513e782ea44b6212c4c9b2, 0.0/1.0 CPU_group_0_9607097dd8bbd856e654414f07cafe5e)<br>Result logdir: /home/ray/ray_results/orchestrate_2021-08-30_14-49-51<br>Number of trials: 4/4 (4 TERMINATED)<br><table>\n",
       "<thead>\n",
       "<tr><th>Trial name             </th><th>status    </th><th>loc  </th><th style=\"text-align: right;\">    lr</th><th style=\"text-align: right;\">  iter</th><th style=\"text-align: right;\">  total time (s)</th><th style=\"text-align: right;\">   error</th></tr>\n",
       "</thead>\n",
       "<tbody>\n",
       "<tr><td>orchestrate_33ed1_00000</td><td>TERMINATED</td><td>     </td><td style=\"text-align: right;\">0.1   </td><td style=\"text-align: right;\">     1</td><td style=\"text-align: right;\">         21.363 </td><td style=\"text-align: right;\">0.767192</td></tr>\n",
       "<tr><td>orchestrate_33ed1_00001</td><td>TERMINATED</td><td>     </td><td style=\"text-align: right;\">0.01  </td><td style=\"text-align: right;\">     1</td><td style=\"text-align: right;\">         21.5833</td><td style=\"text-align: right;\">0.331258</td></tr>\n",
       "<tr><td>orchestrate_33ed1_00002</td><td>TERMINATED</td><td>     </td><td style=\"text-align: right;\">0.001 </td><td style=\"text-align: right;\">     1</td><td style=\"text-align: right;\">         22.381 </td><td style=\"text-align: right;\">0.84147 </td></tr>\n",
       "<tr><td>orchestrate_33ed1_00003</td><td>TERMINATED</td><td>     </td><td style=\"text-align: right;\">0.0001</td><td style=\"text-align: right;\">     1</td><td style=\"text-align: right;\">         24.5086</td><td style=\"text-align: right;\">0.894507</td></tr>\n",
       "</tbody>\n",
       "</table><br><br>"
      ],
      "text/plain": [
       "<IPython.core.display.HTML object>"
      ]
     },
     "metadata": {},
     "output_type": "display_data"
    },
    {
     "name": "stderr",
     "output_type": "stream",
     "text": [
      "2021-08-30 14:50:18,709\tINFO tune.py:550 -- Total run time: 27.71 seconds (27.53 seconds for the tuning loop).\n"
     ]
    }
   ],
   "source": [
    "search_space = {\n",
    "    \"lr\":  tune.grid_search([0.1,0.01,0.001,0.0001]),\n",
    "}\n",
    "\n",
    "analysis = tune.run(orchestrate, config=search_space)"
   ]
  },
  {
   "cell_type": "code",
   "execution_count": 30,
   "id": "19841542",
   "metadata": {},
   "outputs": [
    {
     "name": "stdout",
     "output_type": "stream",
     "text": [
      "Best config:  {'lr': 0.01}\n"
     ]
    }
   ],
   "source": [
    "print(\"Best config: \", analysis.get_best_config(\n",
    "    metric=\"error\", mode=\"min\"))\n"
   ]
  },
  {
   "cell_type": "code",
   "execution_count": 31,
   "id": "48c7c907",
   "metadata": {},
   "outputs": [],
   "source": [
    "df = analysis.results_df\n"
   ]
  },
  {
   "cell_type": "code",
   "execution_count": 32,
   "id": "4915c426",
   "metadata": {},
   "outputs": [
    {
     "data": {
      "text/html": [
       "<div>\n",
       "<style scoped>\n",
       "    .dataframe tbody tr th:only-of-type {\n",
       "        vertical-align: middle;\n",
       "    }\n",
       "\n",
       "    .dataframe tbody tr th {\n",
       "        vertical-align: top;\n",
       "    }\n",
       "\n",
       "    .dataframe thead th {\n",
       "        text-align: right;\n",
       "    }\n",
       "</style>\n",
       "<table border=\"1\" class=\"dataframe\">\n",
       "  <thead>\n",
       "    <tr style=\"text-align: right;\">\n",
       "      <th></th>\n",
       "      <th>error</th>\n",
       "      <th>time_this_iter_s</th>\n",
       "      <th>done</th>\n",
       "      <th>timesteps_total</th>\n",
       "      <th>episodes_total</th>\n",
       "      <th>training_iteration</th>\n",
       "      <th>experiment_id</th>\n",
       "      <th>date</th>\n",
       "      <th>timestamp</th>\n",
       "      <th>time_total_s</th>\n",
       "      <th>pid</th>\n",
       "      <th>hostname</th>\n",
       "      <th>node_ip</th>\n",
       "      <th>time_since_restore</th>\n",
       "      <th>timesteps_since_restore</th>\n",
       "      <th>iterations_since_restore</th>\n",
       "      <th>experiment_tag</th>\n",
       "      <th>config.lr</th>\n",
       "    </tr>\n",
       "    <tr>\n",
       "      <th>trial_id</th>\n",
       "      <th></th>\n",
       "      <th></th>\n",
       "      <th></th>\n",
       "      <th></th>\n",
       "      <th></th>\n",
       "      <th></th>\n",
       "      <th></th>\n",
       "      <th></th>\n",
       "      <th></th>\n",
       "      <th></th>\n",
       "      <th></th>\n",
       "      <th></th>\n",
       "      <th></th>\n",
       "      <th></th>\n",
       "      <th></th>\n",
       "      <th></th>\n",
       "      <th></th>\n",
       "      <th></th>\n",
       "    </tr>\n",
       "  </thead>\n",
       "  <tbody>\n",
       "    <tr>\n",
       "      <th>33ed1_00000</th>\n",
       "      <td>0.767192</td>\n",
       "      <td>21.363003</td>\n",
       "      <td>True</td>\n",
       "      <td>None</td>\n",
       "      <td>None</td>\n",
       "      <td>1</td>\n",
       "      <td>4c1ef44c34184376b57b8eb9b36a1565</td>\n",
       "      <td>2021-08-30_14-50-15</td>\n",
       "      <td>1630360215</td>\n",
       "      <td>21.363003</td>\n",
       "      <td>24514</td>\n",
       "      <td>ip-172-31-107-75</td>\n",
       "      <td>172.31.107.75</td>\n",
       "      <td>21.363003</td>\n",
       "      <td>0</td>\n",
       "      <td>1</td>\n",
       "      <td>0_lr=0.1</td>\n",
       "      <td>0.1000</td>\n",
       "    </tr>\n",
       "    <tr>\n",
       "      <th>33ed1_00001</th>\n",
       "      <td>0.331258</td>\n",
       "      <td>21.583272</td>\n",
       "      <td>True</td>\n",
       "      <td>None</td>\n",
       "      <td>None</td>\n",
       "      <td>1</td>\n",
       "      <td>15f49f5dce0645d0af89ee5b11f1436c</td>\n",
       "      <td>2021-08-30_14-50-15</td>\n",
       "      <td>1630360215</td>\n",
       "      <td>21.583272</td>\n",
       "      <td>24517</td>\n",
       "      <td>ip-172-31-107-75</td>\n",
       "      <td>172.31.107.75</td>\n",
       "      <td>21.583272</td>\n",
       "      <td>0</td>\n",
       "      <td>1</td>\n",
       "      <td>1_lr=0.01</td>\n",
       "      <td>0.0100</td>\n",
       "    </tr>\n",
       "    <tr>\n",
       "      <th>33ed1_00002</th>\n",
       "      <td>0.841470</td>\n",
       "      <td>22.381038</td>\n",
       "      <td>True</td>\n",
       "      <td>None</td>\n",
       "      <td>None</td>\n",
       "      <td>1</td>\n",
       "      <td>2330042f452142d4b29977fc92bcf4fe</td>\n",
       "      <td>2021-08-30_14-50-16</td>\n",
       "      <td>1630360216</td>\n",
       "      <td>22.381038</td>\n",
       "      <td>24512</td>\n",
       "      <td>ip-172-31-107-75</td>\n",
       "      <td>172.31.107.75</td>\n",
       "      <td>22.381038</td>\n",
       "      <td>0</td>\n",
       "      <td>1</td>\n",
       "      <td>2_lr=0.001</td>\n",
       "      <td>0.0010</td>\n",
       "    </tr>\n",
       "    <tr>\n",
       "      <th>33ed1_00003</th>\n",
       "      <td>0.894507</td>\n",
       "      <td>24.508621</td>\n",
       "      <td>True</td>\n",
       "      <td>None</td>\n",
       "      <td>None</td>\n",
       "      <td>1</td>\n",
       "      <td>5cf27314fde54493a19580d5db73ddf2</td>\n",
       "      <td>2021-08-30_14-50-18</td>\n",
       "      <td>1630360218</td>\n",
       "      <td>24.508621</td>\n",
       "      <td>24515</td>\n",
       "      <td>ip-172-31-107-75</td>\n",
       "      <td>172.31.107.75</td>\n",
       "      <td>24.508621</td>\n",
       "      <td>0</td>\n",
       "      <td>1</td>\n",
       "      <td>3_lr=0.0001</td>\n",
       "      <td>0.0001</td>\n",
       "    </tr>\n",
       "  </tbody>\n",
       "</table>\n",
       "</div>"
      ],
      "text/plain": [
       "                error  time_this_iter_s  done timesteps_total episodes_total  \\\n",
       "trial_id                                                                       \n",
       "33ed1_00000  0.767192         21.363003  True            None           None   \n",
       "33ed1_00001  0.331258         21.583272  True            None           None   \n",
       "33ed1_00002  0.841470         22.381038  True            None           None   \n",
       "33ed1_00003  0.894507         24.508621  True            None           None   \n",
       "\n",
       "             training_iteration                     experiment_id  \\\n",
       "trial_id                                                            \n",
       "33ed1_00000                   1  4c1ef44c34184376b57b8eb9b36a1565   \n",
       "33ed1_00001                   1  15f49f5dce0645d0af89ee5b11f1436c   \n",
       "33ed1_00002                   1  2330042f452142d4b29977fc92bcf4fe   \n",
       "33ed1_00003                   1  5cf27314fde54493a19580d5db73ddf2   \n",
       "\n",
       "                            date   timestamp  time_total_s    pid  \\\n",
       "trial_id                                                            \n",
       "33ed1_00000  2021-08-30_14-50-15  1630360215     21.363003  24514   \n",
       "33ed1_00001  2021-08-30_14-50-15  1630360215     21.583272  24517   \n",
       "33ed1_00002  2021-08-30_14-50-16  1630360216     22.381038  24512   \n",
       "33ed1_00003  2021-08-30_14-50-18  1630360218     24.508621  24515   \n",
       "\n",
       "                     hostname        node_ip  time_since_restore  \\\n",
       "trial_id                                                           \n",
       "33ed1_00000  ip-172-31-107-75  172.31.107.75           21.363003   \n",
       "33ed1_00001  ip-172-31-107-75  172.31.107.75           21.583272   \n",
       "33ed1_00002  ip-172-31-107-75  172.31.107.75           22.381038   \n",
       "33ed1_00003  ip-172-31-107-75  172.31.107.75           24.508621   \n",
       "\n",
       "             timesteps_since_restore  iterations_since_restore experiment_tag  \\\n",
       "trial_id                                                                        \n",
       "33ed1_00000                        0                         1       0_lr=0.1   \n",
       "33ed1_00001                        0                         1      1_lr=0.01   \n",
       "33ed1_00002                        0                         1     2_lr=0.001   \n",
       "33ed1_00003                        0                         1    3_lr=0.0001   \n",
       "\n",
       "             config.lr  \n",
       "trial_id                \n",
       "33ed1_00000     0.1000  \n",
       "33ed1_00001     0.0100  \n",
       "33ed1_00002     0.0010  \n",
       "33ed1_00003     0.0001  "
      ]
     },
     "execution_count": 32,
     "metadata": {},
     "output_type": "execute_result"
    }
   ],
   "source": [
    "df.head()"
   ]
  },
  {
   "cell_type": "code",
   "execution_count": 59,
   "id": "779a1b79",
   "metadata": {},
   "outputs": [
    {
     "ename": "NameError",
     "evalue": "name 'actual_predictions' is not defined",
     "output_type": "error",
     "traceback": [
      "\u001b[0;31m---------------------------------------------------------------------------\u001b[0m",
      "\u001b[0;31mNameError\u001b[0m                                 Traceback (most recent call last)",
      "\u001b[0;32m/var/folders/29/cv5cygc54vl4rqs001x5qvbh0000gn/T/ipykernel_37560/421639959.py\u001b[0m in \u001b[0;36m<module>\u001b[0;34m\u001b[0m\n\u001b[1;32m      4\u001b[0m \u001b[0mplt\u001b[0m\u001b[0;34m.\u001b[0m\u001b[0mautoscale\u001b[0m\u001b[0;34m(\u001b[0m\u001b[0maxis\u001b[0m\u001b[0;34m=\u001b[0m\u001b[0;34m'x'\u001b[0m\u001b[0;34m,\u001b[0m \u001b[0mtight\u001b[0m\u001b[0;34m=\u001b[0m\u001b[0;32mTrue\u001b[0m\u001b[0;34m)\u001b[0m\u001b[0;34m\u001b[0m\u001b[0;34m\u001b[0m\u001b[0m\n\u001b[1;32m      5\u001b[0m \u001b[0mplt\u001b[0m\u001b[0;34m.\u001b[0m\u001b[0mplot\u001b[0m\u001b[0;34m(\u001b[0m\u001b[0mflight_data\u001b[0m\u001b[0;34m[\u001b[0m\u001b[0;34m'passengers'\u001b[0m\u001b[0;34m]\u001b[0m\u001b[0;34m)\u001b[0m\u001b[0;34m\u001b[0m\u001b[0;34m\u001b[0m\u001b[0m\n\u001b[0;32m----> 6\u001b[0;31m \u001b[0mplt\u001b[0m\u001b[0;34m.\u001b[0m\u001b[0mplot\u001b[0m\u001b[0;34m(\u001b[0m\u001b[0mx\u001b[0m\u001b[0;34m,\u001b[0m\u001b[0mactual_predictions\u001b[0m\u001b[0;34m)\u001b[0m\u001b[0;34m\u001b[0m\u001b[0;34m\u001b[0m\u001b[0m\n\u001b[0m\u001b[1;32m      7\u001b[0m \u001b[0mplt\u001b[0m\u001b[0;34m.\u001b[0m\u001b[0mshow\u001b[0m\u001b[0;34m(\u001b[0m\u001b[0;34m)\u001b[0m\u001b[0;34m\u001b[0m\u001b[0;34m\u001b[0m\u001b[0m\n",
      "\u001b[0;31mNameError\u001b[0m: name 'actual_predictions' is not defined"
     ]
    },
    {
     "data": {
      "image/png": "[encoded data removed]",
      "text/plain": [
       "<Figure size 1080x360 with 1 Axes>"
      ]
     },
     "metadata": {
      "needs_background": "light"
     },
     "output_type": "display_data"
    }
   ],
   "source": [
    "plt.title('Month vs Passenger')\n",
    "plt.ylabel('Total Passengers')\n",
    "plt.grid(True)\n",
    "plt.autoscale(axis='x', tight=True)\n",
    "plt.plot(flight_data['passengers'])\n",
    "plt.plot(x,actual_predictions)\n",
    "plt.show()"
   ]
  },
  {
   "cell_type": "code",
   "execution_count": null,
   "id": "f502c67c",
   "metadata": {},
   "outputs": [],
   "source": [
    "plt.title('Month vs Passenger')\n",
    "plt.ylabel('Total Passengers')\n",
    "plt.grid(True)\n",
    "plt.autoscale(axis='x', tight=True)\n",
    "\n",
    "plt.plot(flight_data['passengers'][-train_window:])\n",
    "plt.plot(x,actual_predictions)\n",
    "plt.show()"
   ]
  },
  {
   "cell_type": "code",
   "execution_count": null,
   "id": "296303b0",
   "metadata": {},
   "outputs": [],
   "source": [
    "train_data_normalized"
   ]
  },
  {
   "cell_type": "code",
   "execution_count": null,
   "id": "b2b250f7",
   "metadata": {},
   "outputs": [],
   "source": [
    "test_inputs = train_data_normalized[-train_window:].tolist()"
   ]
  },
  {
   "cell_type": "code",
   "execution_count": null,
   "id": "ec4a4697",
   "metadata": {},
   "outputs": [],
   "source": [
    "all_data[-12:]"
   ]
  },
  {
   "cell_type": "code",
   "execution_count": null,
   "id": "ad3607b1",
   "metadata": {},
   "outputs": [],
   "source": [
    "train_data"
   ]
  },
  {
   "cell_type": "code",
   "execution_count": 40,
   "id": "35353d54",
   "metadata": {},
   "outputs": [
    {
     "data": {
      "text/plain": [
       "array([417., 391., 419., 461., 472., 535., 622., 606., 508., 461., 390.,\n",
       "       432.])"
      ]
     },
     "execution_count": 40,
     "metadata": {},
     "output_type": "execute_result"
    }
   ],
   "source": [
    "test_data"
   ]
  },
  {
   "cell_type": "code",
   "execution_count": 65,
   "id": "d65a9611",
   "metadata": {},
   "outputs": [
    {
     "data": {
      "text/plain": [
       "(12, 1)"
      ]
     },
     "execution_count": 65,
     "metadata": {},
     "output_type": "execute_result"
    }
   ],
   "source": [
    "test_data_normalized.shape"
   ]
  },
  {
   "cell_type": "code",
   "execution_count": null,
   "id": "a3484263",
   "metadata": {},
   "outputs": [],
   "source": []
  }
 ],
 "metadata": {
  "kernelspec": {
   "display_name": "Python 3 (ipykernel)",
   "language": "python",
   "name": "python3"
  },
  "language_info": {
   "codemirror_mode": {
    "name": "ipython",
    "version": 3
   },
   "file_extension": ".py",
   "mimetype": "text/x-python",
   "name": "python",
   "nbconvert_exporter": "python",
   "pygments_lexer": "ipython3",
   "version": "3.7.7"
  }
 },
 "nbformat": 4,
 "nbformat_minor": 5
}
