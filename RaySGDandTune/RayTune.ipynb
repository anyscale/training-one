{
 "cells": [
  {
   "cell_type": "markdown",
   "id": "6b08bdea",
   "metadata": {},
   "source": [
    "# Ray Tune"
   ]
  },
  {
   "cell_type": "code",
   "execution_count": 1,
   "id": "941ad308",
   "metadata": {},
   "outputs": [
    {
     "name": "stderr",
     "output_type": "stream",
     "text": [
      "2021-08-31 00:18:55,000\tINFO worker.py:801 -- Connecting to existing Ray cluster at address: 172.31.107.75:6379\n"
     ]
    }
   ],
   "source": [
    "# Let's import and connect to ray:\n",
    "\n",
    "import ray\n",
    "ray.init()\n",
    "from ray import tune\n"
   ]
  },
  {
   "cell_type": "code",
   "execution_count": 2,
   "id": "6d711a3a",
   "metadata": {},
   "outputs": [
    {
     "data": {
      "text/plain": [
       "'1.5.2'"
      ]
     },
     "execution_count": 2,
     "metadata": {},
     "output_type": "execute_result"
    }
   ],
   "source": [
    "# checking ray version\n",
    "ray.__version__"
   ]
  },
  {
   "cell_type": "code",
   "execution_count": 3,
   "id": "b2b016db",
   "metadata": {},
   "outputs": [],
   "source": [
    "# import PyTorch suite\n",
    "import torch\n",
    "import torch.nn as nn\n",
    "\n",
    "# import Seaborn statistical dataset package\n",
    "import seaborn as sns\n",
    "# data processing tools\n",
    "import numpy as np\n",
    "import pandas as pd\n",
    "# plotting\n",
    "import matplotlib.pyplot as plt\n",
    "# metrics and \n",
    "from sklearn.metrics import max_error\n",
    "from sklearn.preprocessing import MinMaxScaler\n",
    "# execution timing, os utils\n",
    "import time\n",
    "import os\n",
    "%matplotlib inline"
   ]
  },
  {
   "cell_type": "markdown",
   "id": "c405f68b",
   "metadata": {},
   "source": [
    "## We will be using the Flight dataset from Seaborn package for demonstration"
   ]
  },
  {
   "cell_type": "code",
   "execution_count": 4,
   "id": "2cb2dce4",
   "metadata": {},
   "outputs": [
    {
     "data": {
      "text/html": [
       "<div>\n",
       "<style scoped>\n",
       "    .dataframe tbody tr th:only-of-type {\n",
       "        vertical-align: middle;\n",
       "    }\n",
       "\n",
       "    .dataframe tbody tr th {\n",
       "        vertical-align: top;\n",
       "    }\n",
       "\n",
       "    .dataframe thead th {\n",
       "        text-align: right;\n",
       "    }\n",
       "</style>\n",
       "<table border=\"1\" class=\"dataframe\">\n",
       "  <thead>\n",
       "    <tr style=\"text-align: right;\">\n",
       "      <th></th>\n",
       "      <th>year</th>\n",
       "      <th>month</th>\n",
       "      <th>passengers</th>\n",
       "    </tr>\n",
       "  </thead>\n",
       "  <tbody>\n",
       "    <tr>\n",
       "      <th>0</th>\n",
       "      <td>1949</td>\n",
       "      <td>Jan</td>\n",
       "      <td>112</td>\n",
       "    </tr>\n",
       "    <tr>\n",
       "      <th>1</th>\n",
       "      <td>1949</td>\n",
       "      <td>Feb</td>\n",
       "      <td>118</td>\n",
       "    </tr>\n",
       "    <tr>\n",
       "      <th>2</th>\n",
       "      <td>1949</td>\n",
       "      <td>Mar</td>\n",
       "      <td>132</td>\n",
       "    </tr>\n",
       "    <tr>\n",
       "      <th>3</th>\n",
       "      <td>1949</td>\n",
       "      <td>Apr</td>\n",
       "      <td>129</td>\n",
       "    </tr>\n",
       "    <tr>\n",
       "      <th>4</th>\n",
       "      <td>1949</td>\n",
       "      <td>May</td>\n",
       "      <td>121</td>\n",
       "    </tr>\n",
       "  </tbody>\n",
       "</table>\n",
       "</div>"
      ],
      "text/plain": [
       "   year month  passengers\n",
       "0  1949   Jan         112\n",
       "1  1949   Feb         118\n",
       "2  1949   Mar         132\n",
       "3  1949   Apr         129\n",
       "4  1949   May         121"
      ]
     },
     "execution_count": 4,
     "metadata": {},
     "output_type": "execute_result"
    }
   ],
   "source": [
    "flight_data = sns.load_dataset(\"flights\")\n",
    "flight_data.head()"
   ]
  },
  {
   "cell_type": "markdown",
   "id": "2f071655",
   "metadata": {},
   "source": [
    "## Data Exploration, normally a first step in any ML process\n"
   ]
  },
  {
   "cell_type": "markdown",
   "id": "13e43dec",
   "metadata": {},
   "source": [
    "Some Data Processing to make it easier for LSTM"
   ]
  },
  {
   "cell_type": "code",
   "execution_count": 5,
   "id": "263b1724",
   "metadata": {},
   "outputs": [],
   "source": [
    "all_data = flight_data['passengers'].values.astype(float)\n",
    "test_data_size = 12\n",
    "scaler = MinMaxScaler()\n",
    "all_data_normalized = scaler.fit_transform(all_data .reshape(-1, 1))\n",
    "train_data_normalized  = all_data_normalized[:-test_data_size]\n",
    "test_data_normalized = all_data_normalized[-test_data_size:]\n",
    "train_data_normalized = torch.FloatTensor(train_data_normalized).view(-1)\n"
   ]
  },
  {
   "cell_type": "code",
   "execution_count": 6,
   "id": "b7b4b807",
   "metadata": {},
   "outputs": [
    {
     "data": {
      "text/plain": [
       "[<matplotlib.lines.Line2D at 0x7f2bd4d8dd90>]"
      ]
     },
     "execution_count": 6,
     "metadata": {},
     "output_type": "execute_result"
    },
    {
     "data": {
      "image/png": "[encoded data removed]",
      "text/plain": [
       "<Figure size 1080x360 with 1 Axes>"
      ]
     },
     "metadata": {
      "needs_background": "light"
     },
     "output_type": "display_data"
    }
   ],
   "source": [
    "fig_size = plt.rcParams[\"figure.figsize\"]\n",
    "fig_size[0] = 15\n",
    "fig_size[1] = 5\n",
    "plt.rcParams[\"figure.figsize\"] = fig_size\n",
    "plt.title('Month vs Passenger')\n",
    "plt.ylabel('Total Passengers')\n",
    "plt.xlabel('Months')\n",
    "plt.grid(True)\n",
    "plt.autoscale(axis='x',tight=True)\n",
    "plt.plot(flight_data['passengers'])\n"
   ]
  },
  {
   "cell_type": "markdown",
   "id": "cdc01d9d",
   "metadata": {},
   "source": [
    "## Some data preparations for LSTM Model"
   ]
  },
  {
   "cell_type": "code",
   "execution_count": 7,
   "id": "50db7469",
   "metadata": {},
   "outputs": [],
   "source": [
    "# the passenger value is the input feature, we will be predicting the number of passengers. Need to encode the timeseries in to 12 months windows, normalize values etc.\n",
    "all_data = flight_data['passengers'].values.astype(float)\n",
    "test_data_size = 12\n",
    "scaler = MinMaxScaler()\n",
    "all_data_normalized = scaler.fit_transform(all_data .reshape(-1, 1))\n",
    "train_data_normalized  = all_data_normalized[:-test_data_size]\n",
    "test_data_normalized = all_data_normalized[-test_data_size:]"
   ]
  },
  {
   "cell_type": "code",
   "execution_count": 8,
   "id": "8efc9e9b",
   "metadata": {},
   "outputs": [],
   "source": [
    "# timeseries sequence splicing. This can be optimized as a generator function based on input stream.\n",
    "train_data_normalized = torch.FloatTensor(train_data_normalized).view(-1)\n",
    "train_window = 12\n",
    "def create_inout_sequences(input_data, tw):\n",
    "    inout_seq = []\n",
    "    L = len(input_data)\n",
    "    for i in range(L-tw):\n",
    "        train_seq = input_data[i:i+tw]\n",
    "        train_label = input_data[i+tw:i+tw+1]\n",
    "        inout_seq.append((train_seq ,train_label))\n",
    "    return inout_seq\n",
    "train_inout_seq = create_inout_sequences(train_data_normalized, train_window)\n",
    "\n"
   ]
  },
  {
   "cell_type": "markdown",
   "id": "e77a40ac",
   "metadata": {},
   "source": [
    "## With data preparatin and data exploration done, we will start construct the model"
   ]
  },
  {
   "cell_type": "code",
   "execution_count": 9,
   "id": "12a6bcc6",
   "metadata": {},
   "outputs": [],
   "source": [
    "# the useal PyToch way -- class based model instantiation, define forward function.\n",
    "class LSTM(nn.Module):\n",
    "    def __init__(self, input_size=1, hidden_layer_size=100, output_size=1):\n",
    "        super().__init__()\n",
    "        self.hidden_layer_size = hidden_layer_size\n",
    "\n",
    "        self.lstm = nn.LSTM(input_size, hidden_layer_size)\n",
    "\n",
    "        self.linear = nn.Linear(hidden_layer_size, output_size)\n",
    "\n",
    "        self.hidden_cell = (torch.zeros(1,1,self.hidden_layer_size),\n",
    "                            torch.zeros(1,1,self.hidden_layer_size))\n",
    "\n",
    "    def forward(self, input_seq):\n",
    "        lstm_out, self.hidden_cell = self.lstm(input_seq.view(len(input_seq) ,1, -1), self.hidden_cell)\n",
    "        predictions = self.linear(lstm_out.view(len(input_seq), -1))\n",
    "        return predictions[-1]"
   ]
  },
  {
   "cell_type": "markdown",
   "id": "5d0df4c9",
   "metadata": {},
   "source": [
    "### With a model defined, we go into defining the training behavior and testing behavior. In this tutorial, we define a simple trainable, leveraging python Duck Typing."
   ]
  },
  {
   "cell_type": "code",
   "execution_count": 10,
   "id": "4dedd5b1",
   "metadata": {},
   "outputs": [],
   "source": [
    "\n",
    "def train(model, optimizer, loss_function, epochs):\n",
    "    for i in range(epochs):\n",
    "        for seq, labels in train_inout_seq:\n",
    "            optimizer.zero_grad()\n",
    "            model.hidden_cell = (torch.zeros(1, 1, model.hidden_layer_size),\n",
    "                        torch.zeros(1, 1, model.hidden_layer_size))\n",
    "            y_pred = model(seq)\n",
    "            single_loss = loss_function(y_pred, labels)\n",
    "            single_loss.backward()\n",
    "            optimizer.step()\n",
    "        # optional -- you can add fine grain checkpoints here.\n",
    "        # below is only pseudo code.\n",
    "#             with tune.checkpoint_dir(step=epoch) as checkpoint_dir:\n",
    "#                 path = os.path.join(checkpoint_dir, \"checkpoint\")\n",
    "#                 torch.save(\n",
    "#                     (model.state_dict(), optimizer.state_dict()), path)\n",
    "    print(f'epoch: {i:3} loss: {single_loss.item():10.10f}')\n",
    "def test(model, test_input, truth):\n",
    "    model.eval()\n",
    "    for i in range(train_window):\n",
    "        seq = torch.FloatTensor(test_input[-train_window:])\n",
    "        with torch.no_grad():\n",
    "            model.hidden = (torch.zeros(1, 1, model.hidden_layer_size),\n",
    "                        torch.zeros(1, 1, model.hidden_layer_size))\n",
    "            test_input.append(model(seq).item())\n",
    "    return max_error(test_input[train_window:],test_data_normalized)\n"
   ]
  },
  {
   "cell_type": "code",
   "execution_count": 11,
   "id": "a259d6a4",
   "metadata": {},
   "outputs": [],
   "source": [
    "## Orchestrate behaves like a Trainable, taking in a config, then execute the train and test, remit evaluation metrics back to the main train function/actor.\n",
    "def orchestrate(config):  \n",
    "    epochs = 50\n",
    "    model = LSTM()\n",
    "    loss_function = nn.MSELoss()\n",
    "    optimizer = torch.optim.Adam(model.parameters(), lr=config[\"lr\"])\n",
    "    train(model, optimizer, loss_function, epochs)\n",
    "    test_inputs = train_data_normalized[-train_window:].tolist()\n",
    "    \n",
    "    error = test(model, test_inputs, test_data_normalized)\n",
    "    tune.report(error = error)\n",
    "    # This saves the model to the trial directory\n",
    "    torch.save(model.state_dict(), \"./model.pth\")\n",
    "    print(error)"
   ]
  },
  {
   "cell_type": "code",
   "execution_count": 12,
   "id": "8dbe6c9a",
   "metadata": {},
   "outputs": [
    {
     "name": "stderr",
     "output_type": "stream",
     "text": [
      "2021-08-31 00:19:00,877\tWARNING function_runner.py:545 -- Function checkpointing is disabled. This may result in unexpected behavior when using checkpointing features or certain schedulers. To enable, set the train function arguments to be `func(config, checkpoint_dir=None)`.\n"
     ]
    },
    {
     "data": {
      "text/html": [
       "== Status ==<br>Memory usage on this node: 4.6/30.9 GiB<br>Using FIFO scheduling algorithm.<br>Resources requested: 0/8 CPUs, 0/0 GPUs, 0.0/18.36 GiB heap, 0.0/9.18 GiB objects<br>Result logdir: /home/ray/ray_results/orchestrate_2021-08-31_00-19-00<br>Number of trials: 4/4 (4 PENDING)<br><table>\n",
       "<thead>\n",
       "<tr><th>Trial name             </th><th>status  </th><th>loc  </th><th style=\"text-align: right;\">    lr</th></tr>\n",
       "</thead>\n",
       "<tbody>\n",
       "<tr><td>orchestrate_b6dad_00000</td><td>PENDING </td><td>     </td><td style=\"text-align: right;\">0.1   </td></tr>\n",
       "<tr><td>orchestrate_b6dad_00001</td><td>PENDING </td><td>     </td><td style=\"text-align: right;\">0.01  </td></tr>\n",
       "<tr><td>orchestrate_b6dad_00002</td><td>PENDING </td><td>     </td><td style=\"text-align: right;\">0.001 </td></tr>\n",
       "<tr><td>orchestrate_b6dad_00003</td><td>PENDING </td><td>     </td><td style=\"text-align: right;\">0.0001</td></tr>\n",
       "</tbody>\n",
       "</table><br><br>"
      ],
      "text/plain": [
       "<IPython.core.display.HTML object>"
      ]
     },
     "metadata": {},
     "output_type": "display_data"
    },
    {
     "name": "stdout",
     "output_type": "stream",
     "text": [
      "Result for orchestrate_b6dad_00001:\n",
      "  date: 2021-08-31_00-19-25\n",
      "  done: false\n",
      "  error: 0.36509788036346436\n",
      "  experiment_id: 1e94d18faddc411fa1aa8f69fbf5c1c9\n",
      "  hostname: ip-172-31-107-75\n",
      "  iterations_since_restore: 1\n",
      "  node_ip: 172.31.107.75\n",
      "  pid: 127032\n",
      "  time_since_restore: 21.326329946517944\n",
      "  time_this_iter_s: 21.326329946517944\n",
      "  time_total_s: 21.326329946517944\n",
      "  timestamp: 1630394365\n",
      "  timesteps_since_restore: 0\n",
      "  training_iteration: 1\n",
      "  trial_id: b6dad_00001\n",
      "  \n"
     ]
    },
    {
     "data": {
      "text/html": [
       "== Status ==<br>Memory usage on this node: 6.0/30.9 GiB<br>Using FIFO scheduling algorithm.<br>Resources requested: 4.0/8 CPUs, 0/0 GPUs, 0.0/18.36 GiB heap, 0.0/9.18 GiB objects<br>Result logdir: /home/ray/ray_results/orchestrate_2021-08-31_00-19-00<br>Number of trials: 4/4 (4 RUNNING)<br><table>\n",
       "<thead>\n",
       "<tr><th>Trial name             </th><th>status  </th><th>loc                 </th><th style=\"text-align: right;\">    lr</th><th style=\"text-align: right;\">  iter</th><th style=\"text-align: right;\">  total time (s)</th><th style=\"text-align: right;\">   error</th></tr>\n",
       "</thead>\n",
       "<tbody>\n",
       "<tr><td>orchestrate_b6dad_00000</td><td>RUNNING </td><td>                    </td><td style=\"text-align: right;\">0.1   </td><td style=\"text-align: right;\">      </td><td style=\"text-align: right;\">                </td><td style=\"text-align: right;\">        </td></tr>\n",
       "<tr><td>orchestrate_b6dad_00001</td><td>RUNNING </td><td>172.31.107.75:127032</td><td style=\"text-align: right;\">0.01  </td><td style=\"text-align: right;\">     1</td><td style=\"text-align: right;\">         21.3263</td><td style=\"text-align: right;\">0.365098</td></tr>\n",
       "<tr><td>orchestrate_b6dad_00002</td><td>RUNNING </td><td>                    </td><td style=\"text-align: right;\">0.001 </td><td style=\"text-align: right;\">      </td><td style=\"text-align: right;\">                </td><td style=\"text-align: right;\">        </td></tr>\n",
       "<tr><td>orchestrate_b6dad_00003</td><td>RUNNING </td><td>                    </td><td style=\"text-align: right;\">0.0001</td><td style=\"text-align: right;\">      </td><td style=\"text-align: right;\">                </td><td style=\"text-align: right;\">        </td></tr>\n",
       "</tbody>\n",
       "</table><br><br>"
      ],
      "text/plain": [
       "<IPython.core.display.HTML object>"
      ]
     },
     "metadata": {},
     "output_type": "display_data"
    },
    {
     "name": "stdout",
     "output_type": "stream",
     "text": [
      "Result for orchestrate_b6dad_00001:\n",
      "  date: 2021-08-31_00-19-25\n",
      "  done: true\n",
      "  error: 0.36509788036346436\n",
      "  experiment_id: 1e94d18faddc411fa1aa8f69fbf5c1c9\n",
      "  experiment_tag: 1_lr=0.01\n",
      "  hostname: ip-172-31-107-75\n",
      "  iterations_since_restore: 1\n",
      "  node_ip: 172.31.107.75\n",
      "  pid: 127032\n",
      "  time_since_restore: 21.326329946517944\n",
      "  time_this_iter_s: 21.326329946517944\n",
      "  time_total_s: 21.326329946517944\n",
      "  timestamp: 1630394365\n",
      "  timesteps_since_restore: 0\n",
      "  training_iteration: 1\n",
      "  trial_id: b6dad_00001\n",
      "  \n",
      "\u001b[2m\u001b[36m(pid=127032)\u001b[0m epoch:  49 loss: 0.0013011860\n",
      "\u001b[2m\u001b[36m(pid=127032)\u001b[0m 0.36509788036346436\n",
      "Result for orchestrate_b6dad_00000:\n",
      "  date: 2021-08-31_00-19-26\n",
      "  done: false\n",
      "  error: 0.42706191539764404\n",
      "  experiment_id: a9c797ba144443189144ca6381d66484\n",
      "  hostname: ip-172-31-107-75\n",
      "  iterations_since_restore: 1\n",
      "  node_ip: 172.31.107.75\n",
      "  pid: 127031\n",
      "  time_since_restore: 22.094025373458862\n",
      "  time_this_iter_s: 22.094025373458862\n",
      "  time_total_s: 22.094025373458862\n",
      "  timestamp: 1630394366\n",
      "  timesteps_since_restore: 0\n",
      "  training_iteration: 1\n",
      "  trial_id: b6dad_00000\n",
      "  \n",
      "Result for orchestrate_b6dad_00000:\n",
      "  date: 2021-08-31_00-19-26\n",
      "  done: true\n",
      "  error: 0.42706191539764404\n",
      "  experiment_id: a9c797ba144443189144ca6381d66484\n",
      "  experiment_tag: 0_lr=0.1\n",
      "  hostname: ip-172-31-107-75\n",
      "  iterations_since_restore: 1\n",
      "  node_ip: 172.31.107.75\n",
      "  pid: 127031\n",
      "  time_since_restore: 22.094025373458862\n",
      "  time_this_iter_s: 22.094025373458862\n",
      "  time_total_s: 22.094025373458862\n",
      "  timestamp: 1630394366\n",
      "  timesteps_since_restore: 0\n",
      "  training_iteration: 1\n",
      "  trial_id: b6dad_00000\n",
      "  \n",
      "\u001b[2m\u001b[36m(pid=127031)\u001b[0m epoch:  49 loss: 0.0086026974\n",
      "\u001b[2m\u001b[36m(pid=127031)\u001b[0m 0.42706191539764404\n",
      "Result for orchestrate_b6dad_00002:\n",
      "  date: 2021-08-31_00-19-27\n",
      "  done: false\n",
      "  error: 0.5568990652165358\n",
      "  experiment_id: 64985ff41cbf4bb9b6beeaf97e146669\n",
      "  hostname: ip-172-31-107-75\n",
      "  iterations_since_restore: 1\n",
      "  node_ip: 172.31.107.75\n",
      "  pid: 127034\n",
      "  time_since_restore: 23.277655601501465\n",
      "  time_this_iter_s: 23.277655601501465\n",
      "  time_total_s: 23.277655601501465\n",
      "  timestamp: 1630394367\n",
      "  timesteps_since_restore: 0\n",
      "  training_iteration: 1\n",
      "  trial_id: b6dad_00002\n",
      "  \n",
      "Result for orchestrate_b6dad_00002:\n",
      "  date: 2021-08-31_00-19-27\n",
      "  done: true\n",
      "  error: 0.5568990652165358\n",
      "  experiment_id: 64985ff41cbf4bb9b6beeaf97e146669\n",
      "  experiment_tag: 2_lr=0.001\n",
      "  hostname: ip-172-31-107-75\n",
      "  iterations_since_restore: 1\n",
      "  node_ip: 172.31.107.75\n",
      "  pid: 127034\n",
      "  time_since_restore: 23.277655601501465\n",
      "  time_this_iter_s: 23.277655601501465\n",
      "  time_total_s: 23.277655601501465\n",
      "  timestamp: 1630394367\n",
      "  timesteps_since_restore: 0\n",
      "  training_iteration: 1\n",
      "  trial_id: b6dad_00002\n",
      "  \n",
      "\u001b[2m\u001b[36m(pid=127034)\u001b[0m epoch:  49 loss: 0.0044991774\n",
      "\u001b[2m\u001b[36m(pid=127034)\u001b[0m 0.5568990652165358\n",
      "Result for orchestrate_b6dad_00003:\n",
      "  date: 2021-08-31_00-19-28\n",
      "  done: false\n",
      "  error: 1.1078107301793043\n",
      "  experiment_id: 1421a6f18b224659a6bbd15b3bfebce8\n",
      "  hostname: ip-172-31-107-75\n",
      "  iterations_since_restore: 1\n",
      "  node_ip: 172.31.107.75\n",
      "  pid: 127035\n",
      "  time_since_restore: 24.084161043167114\n",
      "  time_this_iter_s: 24.084161043167114\n",
      "  time_total_s: 24.084161043167114\n",
      "  timestamp: 1630394368\n",
      "  timesteps_since_restore: 0\n",
      "  training_iteration: 1\n",
      "  trial_id: b6dad_00003\n",
      "  \n",
      "Result for orchestrate_b6dad_00003:\n",
      "  date: 2021-08-31_00-19-28\n",
      "  done: true\n",
      "  error: 1.1078107301793043\n",
      "  experiment_id: 1421a6f18b224659a6bbd15b3bfebce8\n",
      "  experiment_tag: 3_lr=0.0001\n",
      "  hostname: ip-172-31-107-75\n",
      "  iterations_since_restore: 1\n",
      "  node_ip: 172.31.107.75\n",
      "  pid: 127035\n",
      "  time_since_restore: 24.084161043167114\n",
      "  time_this_iter_s: 24.084161043167114\n",
      "  time_total_s: 24.084161043167114\n",
      "  timestamp: 1630394368\n",
      "  timesteps_since_restore: 0\n",
      "  training_iteration: 1\n",
      "  trial_id: b6dad_00003\n",
      "  \n"
     ]
    },
    {
     "data": {
      "text/html": [
       "== Status ==<br>Memory usage on this node: 4.8/30.9 GiB<br>Using FIFO scheduling algorithm.<br>Resources requested: 0/8 CPUs, 0/0 GPUs, 0.0/18.36 GiB heap, 0.0/9.18 GiB objects (0.0/1.0 CPU_group_5e227c75b95fda7919c77545e130e42a, 0.0/1.0 CPU_group_0_5e227c75b95fda7919c77545e130e42a, 0.0/1.0 CPU_group_0_a65349a67f8deb2c5983de9c2e42c984, 0.0/1.0 CPU_group_0_c235cf2b52cb82dd86f0e73e69b1eab4, 0.0/1.0 CPU_group_c235cf2b52cb82dd86f0e73e69b1eab4, 0.0/1.0 CPU_group_0_f55a73f03dd2d7796913f33dfbfed01d, 0.0/1.0 CPU_group_a65349a67f8deb2c5983de9c2e42c984, 0.0/1.0 CPU_group_f55a73f03dd2d7796913f33dfbfed01d)<br>Result logdir: /home/ray/ray_results/orchestrate_2021-08-31_00-19-00<br>Number of trials: 4/4 (4 TERMINATED)<br><table>\n",
       "<thead>\n",
       "<tr><th>Trial name             </th><th>status    </th><th>loc  </th><th style=\"text-align: right;\">    lr</th><th style=\"text-align: right;\">  iter</th><th style=\"text-align: right;\">  total time (s)</th><th style=\"text-align: right;\">   error</th></tr>\n",
       "</thead>\n",
       "<tbody>\n",
       "<tr><td>orchestrate_b6dad_00000</td><td>TERMINATED</td><td>     </td><td style=\"text-align: right;\">0.1   </td><td style=\"text-align: right;\">     1</td><td style=\"text-align: right;\">         22.094 </td><td style=\"text-align: right;\">0.427062</td></tr>\n",
       "<tr><td>orchestrate_b6dad_00001</td><td>TERMINATED</td><td>     </td><td style=\"text-align: right;\">0.01  </td><td style=\"text-align: right;\">     1</td><td style=\"text-align: right;\">         21.3263</td><td style=\"text-align: right;\">0.365098</td></tr>\n",
       "<tr><td>orchestrate_b6dad_00002</td><td>TERMINATED</td><td>     </td><td style=\"text-align: right;\">0.001 </td><td style=\"text-align: right;\">     1</td><td style=\"text-align: right;\">         23.2777</td><td style=\"text-align: right;\">0.556899</td></tr>\n",
       "<tr><td>orchestrate_b6dad_00003</td><td>TERMINATED</td><td>     </td><td style=\"text-align: right;\">0.0001</td><td style=\"text-align: right;\">     1</td><td style=\"text-align: right;\">         24.0842</td><td style=\"text-align: right;\">1.10781 </td></tr>\n",
       "</tbody>\n",
       "</table><br><br>"
      ],
      "text/plain": [
       "<IPython.core.display.HTML object>"
      ]
     },
     "metadata": {},
     "output_type": "display_data"
    },
    {
     "name": "stderr",
     "output_type": "stream",
     "text": [
      "2021-08-31 00:19:28,554\tINFO tune.py:550 -- Total run time: 27.68 seconds (27.37 seconds for the tuning loop).\n"
     ]
    },
    {
     "name": "stdout",
     "output_type": "stream",
     "text": [
      "\u001b[2m\u001b[36m(pid=127035)\u001b[0m epoch:  49 loss: 0.0037196900\n",
      "\u001b[2m\u001b[36m(pid=127035)\u001b[0m 1.1078107301793043\n"
     ]
    }
   ],
   "source": [
    "## Define the parameter search space, kick off the training.\n",
    "search_space = {\n",
    "    \"lr\":  tune.grid_search([0.1,0.01,0.001,0.0001]),\n",
    "}\n",
    "\n",
    "analysis = tune.run(orchestrate, config=search_space)"
   ]
  },
  {
   "cell_type": "markdown",
   "id": "093a330a",
   "metadata": {},
   "source": [
    "### Let's look at the diagram again"
   ]
  },
  {
   "cell_type": "markdown",
   "id": "e28ece15",
   "metadata": {},
   "source": [
    "### Let's now look at the training result, and analyze the outputs"
   ]
  },
  {
   "cell_type": "code",
   "execution_count": 13,
   "id": "64e6e209",
   "metadata": {},
   "outputs": [
    {
     "name": "stdout",
     "output_type": "stream",
     "text": [
      "Best config:  {'lr': 0.01}\n"
     ]
    }
   ],
   "source": [
    "print(\"Best config: \", analysis.get_best_config(\n",
    "    metric=\"error\", mode=\"min\"))\n"
   ]
  },
  {
   "cell_type": "code",
   "execution_count": 14,
   "id": "ca101e90",
   "metadata": {},
   "outputs": [
    {
     "name": "stdout",
     "output_type": "stream",
     "text": [
      "orchestrate_b6dad_00001\n"
     ]
    }
   ],
   "source": [
    "best_trial = analysis.get_best_trial(\"error\", \"min\", \"last\")\n",
    "print(best_trial)"
   ]
  },
  {
   "cell_type": "code",
   "execution_count": 15,
   "id": "2da98f4c",
   "metadata": {},
   "outputs": [
    {
     "data": {
      "text/html": [
       "<div>\n",
       "<style scoped>\n",
       "    .dataframe tbody tr th:only-of-type {\n",
       "        vertical-align: middle;\n",
       "    }\n",
       "\n",
       "    .dataframe tbody tr th {\n",
       "        vertical-align: top;\n",
       "    }\n",
       "\n",
       "    .dataframe thead th {\n",
       "        text-align: right;\n",
       "    }\n",
       "</style>\n",
       "<table border=\"1\" class=\"dataframe\">\n",
       "  <thead>\n",
       "    <tr style=\"text-align: right;\">\n",
       "      <th></th>\n",
       "      <th>error</th>\n",
       "      <th>time_this_iter_s</th>\n",
       "      <th>done</th>\n",
       "      <th>timesteps_total</th>\n",
       "      <th>episodes_total</th>\n",
       "      <th>training_iteration</th>\n",
       "      <th>experiment_id</th>\n",
       "      <th>date</th>\n",
       "      <th>timestamp</th>\n",
       "      <th>time_total_s</th>\n",
       "      <th>pid</th>\n",
       "      <th>hostname</th>\n",
       "      <th>node_ip</th>\n",
       "      <th>time_since_restore</th>\n",
       "      <th>timesteps_since_restore</th>\n",
       "      <th>iterations_since_restore</th>\n",
       "      <th>experiment_tag</th>\n",
       "      <th>config.lr</th>\n",
       "    </tr>\n",
       "    <tr>\n",
       "      <th>trial_id</th>\n",
       "      <th></th>\n",
       "      <th></th>\n",
       "      <th></th>\n",
       "      <th></th>\n",
       "      <th></th>\n",
       "      <th></th>\n",
       "      <th></th>\n",
       "      <th></th>\n",
       "      <th></th>\n",
       "      <th></th>\n",
       "      <th></th>\n",
       "      <th></th>\n",
       "      <th></th>\n",
       "      <th></th>\n",
       "      <th></th>\n",
       "      <th></th>\n",
       "      <th></th>\n",
       "      <th></th>\n",
       "    </tr>\n",
       "  </thead>\n",
       "  <tbody>\n",
       "    <tr>\n",
       "      <th>b6dad_00000</th>\n",
       "      <td>0.427062</td>\n",
       "      <td>22.094025</td>\n",
       "      <td>True</td>\n",
       "      <td>None</td>\n",
       "      <td>None</td>\n",
       "      <td>1</td>\n",
       "      <td>a9c797ba144443189144ca6381d66484</td>\n",
       "      <td>2021-08-31_00-19-26</td>\n",
       "      <td>1630394366</td>\n",
       "      <td>22.094025</td>\n",
       "      <td>127031</td>\n",
       "      <td>ip-172-31-107-75</td>\n",
       "      <td>172.31.107.75</td>\n",
       "      <td>22.094025</td>\n",
       "      <td>0</td>\n",
       "      <td>1</td>\n",
       "      <td>0_lr=0.1</td>\n",
       "      <td>0.1000</td>\n",
       "    </tr>\n",
       "    <tr>\n",
       "      <th>b6dad_00001</th>\n",
       "      <td>0.365098</td>\n",
       "      <td>21.326330</td>\n",
       "      <td>True</td>\n",
       "      <td>None</td>\n",
       "      <td>None</td>\n",
       "      <td>1</td>\n",
       "      <td>1e94d18faddc411fa1aa8f69fbf5c1c9</td>\n",
       "      <td>2021-08-31_00-19-25</td>\n",
       "      <td>1630394365</td>\n",
       "      <td>21.326330</td>\n",
       "      <td>127032</td>\n",
       "      <td>ip-172-31-107-75</td>\n",
       "      <td>172.31.107.75</td>\n",
       "      <td>21.326330</td>\n",
       "      <td>0</td>\n",
       "      <td>1</td>\n",
       "      <td>1_lr=0.01</td>\n",
       "      <td>0.0100</td>\n",
       "    </tr>\n",
       "    <tr>\n",
       "      <th>b6dad_00002</th>\n",
       "      <td>0.556899</td>\n",
       "      <td>23.277656</td>\n",
       "      <td>True</td>\n",
       "      <td>None</td>\n",
       "      <td>None</td>\n",
       "      <td>1</td>\n",
       "      <td>64985ff41cbf4bb9b6beeaf97e146669</td>\n",
       "      <td>2021-08-31_00-19-27</td>\n",
       "      <td>1630394367</td>\n",
       "      <td>23.277656</td>\n",
       "      <td>127034</td>\n",
       "      <td>ip-172-31-107-75</td>\n",
       "      <td>172.31.107.75</td>\n",
       "      <td>23.277656</td>\n",
       "      <td>0</td>\n",
       "      <td>1</td>\n",
       "      <td>2_lr=0.001</td>\n",
       "      <td>0.0010</td>\n",
       "    </tr>\n",
       "    <tr>\n",
       "      <th>b6dad_00003</th>\n",
       "      <td>1.107811</td>\n",
       "      <td>24.084161</td>\n",
       "      <td>True</td>\n",
       "      <td>None</td>\n",
       "      <td>None</td>\n",
       "      <td>1</td>\n",
       "      <td>1421a6f18b224659a6bbd15b3bfebce8</td>\n",
       "      <td>2021-08-31_00-19-28</td>\n",
       "      <td>1630394368</td>\n",
       "      <td>24.084161</td>\n",
       "      <td>127035</td>\n",
       "      <td>ip-172-31-107-75</td>\n",
       "      <td>172.31.107.75</td>\n",
       "      <td>24.084161</td>\n",
       "      <td>0</td>\n",
       "      <td>1</td>\n",
       "      <td>3_lr=0.0001</td>\n",
       "      <td>0.0001</td>\n",
       "    </tr>\n",
       "  </tbody>\n",
       "</table>\n",
       "</div>"
      ],
      "text/plain": [
       "                error  time_this_iter_s  done timesteps_total episodes_total  \\\n",
       "trial_id                                                                       \n",
       "b6dad_00000  0.427062         22.094025  True            None           None   \n",
       "b6dad_00001  0.365098         21.326330  True            None           None   \n",
       "b6dad_00002  0.556899         23.277656  True            None           None   \n",
       "b6dad_00003  1.107811         24.084161  True            None           None   \n",
       "\n",
       "             training_iteration                     experiment_id  \\\n",
       "trial_id                                                            \n",
       "b6dad_00000                   1  a9c797ba144443189144ca6381d66484   \n",
       "b6dad_00001                   1  1e94d18faddc411fa1aa8f69fbf5c1c9   \n",
       "b6dad_00002                   1  64985ff41cbf4bb9b6beeaf97e146669   \n",
       "b6dad_00003                   1  1421a6f18b224659a6bbd15b3bfebce8   \n",
       "\n",
       "                            date   timestamp  time_total_s     pid  \\\n",
       "trial_id                                                             \n",
       "b6dad_00000  2021-08-31_00-19-26  1630394366     22.094025  127031   \n",
       "b6dad_00001  2021-08-31_00-19-25  1630394365     21.326330  127032   \n",
       "b6dad_00002  2021-08-31_00-19-27  1630394367     23.277656  127034   \n",
       "b6dad_00003  2021-08-31_00-19-28  1630394368     24.084161  127035   \n",
       "\n",
       "                     hostname        node_ip  time_since_restore  \\\n",
       "trial_id                                                           \n",
       "b6dad_00000  ip-172-31-107-75  172.31.107.75           22.094025   \n",
       "b6dad_00001  ip-172-31-107-75  172.31.107.75           21.326330   \n",
       "b6dad_00002  ip-172-31-107-75  172.31.107.75           23.277656   \n",
       "b6dad_00003  ip-172-31-107-75  172.31.107.75           24.084161   \n",
       "\n",
       "             timesteps_since_restore  iterations_since_restore experiment_tag  \\\n",
       "trial_id                                                                        \n",
       "b6dad_00000                        0                         1       0_lr=0.1   \n",
       "b6dad_00001                        0                         1      1_lr=0.01   \n",
       "b6dad_00002                        0                         1     2_lr=0.001   \n",
       "b6dad_00003                        0                         1    3_lr=0.0001   \n",
       "\n",
       "             config.lr  \n",
       "trial_id                \n",
       "b6dad_00000     0.1000  \n",
       "b6dad_00001     0.0100  \n",
       "b6dad_00002     0.0010  \n",
       "b6dad_00003     0.0001  "
      ]
     },
     "execution_count": 15,
     "metadata": {},
     "output_type": "execute_result"
    }
   ],
   "source": [
    "df = analysis.results_df\n",
    "df.head()"
   ]
  },
  {
   "cell_type": "code",
   "execution_count": 16,
   "id": "f2febd87",
   "metadata": {},
   "outputs": [
    {
     "data": {
      "text/plain": [
       "<All keys matched successfully>"
      ]
     },
     "execution_count": 16,
     "metadata": {},
     "output_type": "execute_result"
    }
   ],
   "source": [
    "# Depends on whether your model takes in hyper parameters or not.\n",
    "# the trial specific hyper perameter can be retrieved via below\n",
    "# best_trial.config[\"l1\"], best_trial.config[\"l2\"]\n",
    "## Construct the model\n",
    "best_model = LSTM() \n",
    "\n",
    "logdir = best_trial.logdir\n",
    "state_dict = torch.load(os.path.join(logdir, \"model.pth\"))\n",
    "best_model.load_state_dict(state_dict)\n"
   ]
  },
  {
   "cell_type": "markdown",
   "id": "ce999db8",
   "metadata": {},
   "source": [
    "### Alternatively, if you have enabled checkpointing, you can load more models from checkpoint dir"
   ]
  },
  {
   "cell_type": "code",
   "execution_count": 17,
   "id": "6affe933",
   "metadata": {},
   "outputs": [],
   "source": [
    "\n",
    "## construct checkpoint location, load from checkpoint\n",
    "# checkpoint_path = os.path.join(best_trial.checkpoint.value, \"checkpoint\")\n",
    "# model_state, optimizer_state = torch.load(checkpoint_path)\n",
    "# best_trained_model.load_state_dict(model_state)\n"
   ]
  },
  {
   "cell_type": "code",
   "execution_count": 18,
   "id": "c267f284",
   "metadata": {},
   "outputs": [
    {
     "name": "stdout",
     "output_type": "stream",
     "text": [
      "[[492.26158166]\n",
      " [555.72547495]\n",
      " [513.9561069 ]\n",
      " [434.85827518]\n",
      " [360.69448662]\n",
      " [361.38732624]\n",
      " [435.76270258]\n",
      " [526.86339414]\n",
      " [558.13460553]\n",
      " [478.42374659]\n",
      " [396.94358397]\n",
      " [334.63568926]]\n"
     ]
    }
   ],
   "source": [
    "best_model.eval()\n",
    "fut_pred = 12\n",
    "test_inputs = train_data_normalized[-train_window:].tolist()\n",
    "for i in range(fut_pred):\n",
    "    seq = torch.FloatTensor(test_inputs[-train_window:])\n",
    "    with torch.no_grad():\n",
    "        best_model.hidden = (torch.zeros(1, 1, best_model.hidden_layer_size),\n",
    "                        torch.zeros(1, 1, best_model.hidden_layer_size))\n",
    "        test_inputs.append(best_model(seq).item())\n",
    "\n",
    "actual_predictions = scaler.inverse_transform(np.array(test_inputs[train_window:] ).reshape(-1, 1))\n",
    "\n",
    "print(actual_predictions)"
   ]
  },
  {
   "cell_type": "code",
   "execution_count": 19,
   "id": "c0469db5",
   "metadata": {},
   "outputs": [
    {
     "data": {
      "image/png": "[encoded data removed]",
      "text/plain": [
       "<Figure size 1080x360 with 1 Axes>"
      ]
     },
     "metadata": {
      "needs_background": "light"
     },
     "output_type": "display_data"
    }
   ],
   "source": [
    "x = np.arange(132, 144, 1)\n",
    "\n",
    "plt.title('Month vs Passenger')\n",
    "plt.ylabel('Total Passengers')\n",
    "plt.grid(True)\n",
    "plt.autoscale(axis='x', tight=True)\n",
    "plt.plot(flight_data['passengers'])\n",
    "plt.plot(x,actual_predictions)\n",
    "plt.show()"
   ]
  },
  {
   "cell_type": "code",
   "execution_count": 20,
   "id": "83b65aed",
   "metadata": {},
   "outputs": [
    {
     "data": {
      "image/png": "[encoded data removed]",
      "text/plain": [
       "<Figure size 1080x360 with 1 Axes>"
      ]
     },
     "metadata": {
      "needs_background": "light"
     },
     "output_type": "display_data"
    }
   ],
   "source": [
    "plt.title('Month vs Passenger')\n",
    "plt.ylabel('Total Passengers')\n",
    "plt.grid(True)\n",
    "plt.autoscale(axis='x', tight=True)\n",
    "\n",
    "plt.plot(flight_data['passengers'][-train_window:])\n",
    "plt.plot(x,actual_predictions)\n",
    "plt.show()"
   ]
  },
  {
   "cell_type": "code",
   "execution_count": null,
   "id": "a674d37a",
   "metadata": {},
   "outputs": [],
   "source": []
  }
 ],
 "metadata": {
  "kernelspec": {
   "display_name": "Python 3 (ipykernel)",
   "language": "python",
   "name": "python3"
  },
  "language_info": {
   "codemirror_mode": {
    "name": "ipython",
    "version": 3
   },
   "file_extension": ".py",
   "mimetype": "text/x-python",
   "name": "python",
   "nbconvert_exporter": "python",
   "pygments_lexer": "ipython3",
   "version": "3.7.7"
  }
 },
 "nbformat": 4,
 "nbformat_minor": 5
}
