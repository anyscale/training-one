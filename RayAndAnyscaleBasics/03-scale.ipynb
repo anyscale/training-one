{
 "cells": [
  {
   "cell_type": "markdown",
   "id": "c85aff71",
   "metadata": {},
   "source": [
    "# Scaling topics\n",
    "You put functions and Actors into Anyscale to scale them!\n",
    "Some things are automatic, and some merely easy if you know how."
   ]
  },
  {
   "cell_type": "code",
   "execution_count": null,
   "id": "d5421bfc",
   "metadata": {
    "lines_to_next_cell": 1
   },
   "outputs": [],
   "source": [
    "import ray\n",
    "import time\n",
    "import math\n",
    "import random\n",
    "import pandas as pd\n",
    "ray.init(address=\"auto\", namespace=\"scaling\")"
   ]
  },
  {
   "cell_type": "markdown",
   "id": "f28e7332",
   "metadata": {},
   "source": [
    "# Monte Carlo\n",
    "This simulation is useful because it gives you an opportunity to see how to scale \n",
    "loads"
   ]
  },
  {
   "cell_type": "code",
   "execution_count": null,
   "id": "28fd2074",
   "metadata": {
    "lines_to_next_cell": 1
   },
   "outputs": [],
   "source": [
    "@ray.remote\n",
    "def random_batch(batch_size):\n",
    "\n",
    "    total_in = 0\n",
    "    for i in range(batch_size):\n",
    "        x,y = random.uniform(-1,1), random.uniform(-1,1)\n",
    "        if (math.hypot(x,y) <= 1):\n",
    "            total_in += 1\n",
    "    return total_in"
   ]
  },
  {
   "cell_type": "code",
   "execution_count": null,
   "id": "8796670f",
   "metadata": {
    "lines_to_next_cell": 1
   },
   "outputs": [],
   "source": [
    "@ray.remote\n",
    "class PiApproximator():\n",
    "    def __init__(self):\n",
    "        self.approximations = []\n",
    "    def approximate(self, num_samples, batch_size):\n",
    "        start = time.time()\n",
    "        num_inside = []\n",
    "        for i in range(0, num_samples, batch_size):\n",
    "            num_inside.append(random_batch.remote(batch_size))\n",
    "        pi = (4 * sum(ray.get(num_inside)) / num_samples )\n",
    "        end = time.time()\n",
    "        self.approximations.append({ \"time\":end - start,\n",
    "            \"num_samples\":num_samples,\n",
    "            \"batch_size\":batch_size,\n",
    "            \"pi\":pi})\n",
    "        return pi\n",
    "    def get_approximations(self):\n",
    "        return pd.DataFrame(self.approximations)"
   ]
  },
  {
   "cell_type": "code",
   "execution_count": null,
   "id": "10edb139",
   "metadata": {
    "lines_to_next_cell": 2
   },
   "outputs": [],
   "source": [
    "#ray.kill(ray.get_actor(\"approximator\"))\n",
    "approximator = PiApproximator.options(name=\"approximator\").remote()\n",
    "ray.get(approximator.approximate.remote(100, 1))\n",
    "ray.get(approximator.approximate.remote(1000, 1))\n",
    "ray.get(approximator.approximate.remote(1000, 10))\n",
    "ray.get(approximator.approximate.remote(1000, 100))\n",
    "ray.get(approximator.get_approximations.remote())"
   ]
  },
  {
   "cell_type": "markdown",
   "id": "698f0bc9",
   "metadata": {},
   "source": [
    "# Provisioning\n",
    "This example pre-provisions a cluster.  Autoscaling is a slow-reacting\n",
    "process.  If you need a lot of machines fast, this technique helped"
   ]
  },
  {
   "cell_type": "code",
   "execution_count": null,
   "id": "68dd7c08",
   "metadata": {},
   "outputs": [],
   "source": [
    "import ray.autoscaler.sdk\n",
    "INIT_CPUS=50\n",
    "tot_cpus = ray.cluster_resources()[\"CPU\"]\n",
    "if tot_cpus < INIT_CPUS:\n",
    "    ray.autoscaler.sdk.request_resources(num_cpus=INIT_CPUS)\n",
    "    # this kind of loop was required when CPU count was in the 1000s\n",
    "    while tot_cpus < INIT_CPUS:\n",
    "        print(f\"Total CPUs so far: {tot_cpus}\")\n",
    "        # wait some amount of time for machines to come up\n",
    "        time.sleep(15)\n",
    "        tot_cpus = ray.cluster_resources()[\"CPU\"]"
   ]
  },
  {
   "cell_type": "code",
   "execution_count": null,
   "id": "7dbb1a0d",
   "metadata": {
    "lines_to_next_cell": 2
   },
   "outputs": [],
   "source": [
    "# When you're ready, scale that cluster back down again.\n",
    "ray.autoscaler.sdk.request_resources(num_cpus=8)"
   ]
  }
 ],
 "metadata": {
  "jupytext": {
   "cell_metadata_filter": "-all",
   "main_language": "python",
   "notebook_metadata_filter": "-all"
  }
 },
 "nbformat": 4,
 "nbformat_minor": 5
}
