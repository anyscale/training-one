{
 "cells": [
  {
   "cell_type": "markdown",
   "id": "0c401a13",
   "metadata": {},
   "source": [
    "# Scaling topics\n",
    "You put functions and Actors into Anyscale to scale them!\n",
    "Some things are automatic, and some merely easy if you know how."
   ]
  },
  {
   "cell_type": "code",
   "execution_count": null,
   "id": "d9145eb3",
   "metadata": {},
   "outputs": [],
   "source": [
    "import ray\n",
    "import time\n",
    "ray.init(address=\"auto\", namespace=\"scaling\")"
   ]
  },
  {
   "cell_type": "code",
   "execution_count": null,
   "id": "a22599bf",
   "metadata": {},
   "outputs": [],
   "source": [
    "# This example pre-provisions a cluster.  Autoscaling is a slow-reacting\n",
    "# process.  If you need a lot of machines fast, this technique helped\n",
    "import ray.autoscaler.sdk"
   ]
  },
  {
   "cell_type": "code",
   "execution_count": null,
   "id": "ce87b800",
   "metadata": {},
   "outputs": [],
   "source": [
    "INIT_CPUS=50\n",
    "tot_cpus = ray.cluster_resources()[\"CPU\"]"
   ]
  },
  {
   "cell_type": "code",
   "execution_count": null,
   "id": "20e87182",
   "metadata": {},
   "outputs": [],
   "source": [
    "if tot_cpus < INIT_CPUS:\n",
    "    ray.autoscaler.sdk.request_resources(num_cpus=INIT_CPUS)\n",
    "\n",
    "    # this kind of loop was required when CPU count was in the 1000s\n",
    "    while tot_cpus < INIT_CPUS:\n",
    "        print(f\"Total CPUs so far: {tot_cpus}\")\n",
    "        # wait some amount of time for machines to come up\n",
    "        time.sleep(15)\n",
    "        tot_cpus = ray.cluster_resources()[\"CPU\"]"
   ]
  },
  {
   "cell_type": "code",
   "execution_count": null,
   "id": "b0f49794",
   "metadata": {
    "lines_to_next_cell": 2
   },
   "outputs": [],
   "source": [
    "# When you're ready, scale that cluster back down again.\n",
    "ray.autoscaler.sdk.request_resources(num_cpus=8)"
   ]
  }
 ],
 "metadata": {
  "jupytext": {
   "cell_metadata_filter": "-all",
   "main_language": "python",
   "notebook_metadata_filter": "-all"
  }
 },
 "nbformat": 4,
 "nbformat_minor": 5
}
