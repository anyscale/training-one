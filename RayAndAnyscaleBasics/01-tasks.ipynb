{
 "cells": [
  {
   "cell_type": "markdown",
   "id": "27e16fad",
   "metadata": {},
   "source": [
    "# 01-Tasks\n",
    "Tasks are what we call remote functions running in a Ray cluster.\n",
    "This notebook gives you the chance to work with and compose tasks"
   ]
  },
  {
   "cell_type": "code",
   "execution_count": null,
   "id": "e2ad0cc1",
   "metadata": {
    "lines_to_next_cell": 1
   },
   "outputs": [],
   "source": [
    "# Let's import and connect to ray:\n",
    "import ray\n",
    "import time\n",
    "ray.init(address=\"auto\")"
   ]
  },
  {
   "cell_type": "markdown",
   "id": "7c05760a",
   "metadata": {},
   "source": [
    "# Remote invocation\n",
    "The fundamental pattern in Ray."
   ]
  },
  {
   "cell_type": "code",
   "execution_count": null,
   "id": "9e97ff99",
   "metadata": {
    "lines_to_next_cell": 1
   },
   "outputs": [],
   "source": [
    "# Here is a remote task.\n",
    "@ray.remote\n",
    "def my_remote_task():\n",
    "    print(\"Starting a task\")\n",
    "    time.sleep(2)\n",
    "    print(\"Finishing a task\")\n",
    "    return \"Finished a task\""
   ]
  },
  {
   "cell_type": "code",
   "execution_count": null,
   "id": "83417a5e",
   "metadata": {},
   "outputs": [],
   "source": [
    "# Here is how to invoke it and retrieve its results\n",
    "ray.get(my_remote_task.remote())"
   ]
  },
  {
   "cell_type": "code",
   "execution_count": null,
   "id": "8d7bb1d9",
   "metadata": {},
   "outputs": [],
   "source": [
    "# Distribute remote invocation and blocking returns.\n",
    "obj_ref = my_remote_task.remote()\n",
    "print(f\"An object reference: {obj_ref}\")\n",
    "ray.get(obj_ref)"
   ]
  },
  {
   "cell_type": "markdown",
   "id": "f7cefdfb",
   "metadata": {},
   "source": [
    "# The most common error\n",
    "Pay attention to types in your error messages.  \n",
    "Sometimes you will find you have an object ref\n",
    "instead of what you're looking for, which is the output of ray.get(obj_ref)"
   ]
  },
  {
   "cell_type": "code",
   "execution_count": null,
   "id": "510e5c1c",
   "metadata": {},
   "outputs": [],
   "source": [
    "# calling a remote function directly ERROR\n",
    "try:\n",
    "    my_remote_task()\n",
    "except TypeError as e:\n",
    "    print(e)"
   ]
  },
  {
   "cell_type": "code",
   "execution_count": null,
   "id": "a081e0e1",
   "metadata": {},
   "outputs": [],
   "source": [
    "# adding refs ERROR\n",
    "try:\n",
    "    obj_ref + obj_ref\n",
    "except TypeError as e:\n",
    "    print(e)"
   ]
  },
  {
   "cell_type": "markdown",
   "id": "3fc5e3f0",
   "metadata": {},
   "source": [
    "# Repeating tasks\n",
    "What makes a task special?  You can run as many in paralell as you have compute at your disposal:"
   ]
  },
  {
   "cell_type": "code",
   "execution_count": null,
   "id": "af02871c",
   "metadata": {},
   "outputs": [],
   "source": [
    "def a_func(i):\n",
    "    time.sleep(0.1)\n",
    "    return f\"The square of {i} is {i*i}\"\n",
    "# this is the same as annotating...\n",
    "remote_func = ray.remote(a_func)"
   ]
  },
  {
   "cell_type": "code",
   "execution_count": null,
   "id": "43694da5",
   "metadata": {},
   "outputs": [],
   "source": [
    "# this is slow.  The calls all run one after another in a single thread.\n",
    "for i in range(100):\n",
    "    print(a_func(i))"
   ]
  },
  {
   "cell_type": "code",
   "execution_count": null,
   "id": "49af5350",
   "metadata": {},
   "outputs": [],
   "source": [
    "# What does this do?  Hint: It's an anti-pattern.\n",
    "for i in range(100):\n",
    "    print(remote_func.remote(i))\n",
    "for i in range(100):\n",
    "    print(ray.get(remote_func.remote(i)))"
   ]
  },
  {
   "cell_type": "markdown",
   "id": "72bdc3fb",
   "metadata": {},
   "source": [
    "Some more things to try:\n",
    "scale up the numbers above and see how ray distributes tasks"
   ]
  },
  {
   "cell_type": "markdown",
   "id": "2a71984f",
   "metadata": {},
   "source": [
    "# BEST PRACTICE ONE -- delay ray.get()"
   ]
  },
  {
   "cell_type": "code",
   "execution_count": null,
   "id": "c616ac7f",
   "metadata": {},
   "outputs": [],
   "source": [
    "refs = []\n",
    "for i in range(100):\n",
    "    refs.append(remote_func.remote(i))"
   ]
  },
  {
   "cell_type": "code",
   "execution_count": null,
   "id": "98b4cf0c",
   "metadata": {},
   "outputs": [],
   "source": [
    "print(refs)"
   ]
  },
  {
   "cell_type": "code",
   "execution_count": null,
   "id": "45b276ce",
   "metadata": {},
   "outputs": [],
   "source": [
    "print(ray.get(refs))"
   ]
  },
  {
   "cell_type": "code",
   "execution_count": null,
   "id": "34ed8f3f",
   "metadata": {
    "lines_to_next_cell": 1
   },
   "outputs": [],
   "source": [
    "nothing = [print(ray.get(r)) for r in refs]"
   ]
  },
  {
   "cell_type": "markdown",
   "id": "0d8d17ce",
   "metadata": {},
   "source": [
    "# BEST PRACTICE TWO -- backpressure\n",
    "https://docs.ray.io/en/master/ray-design-patterns/limit-tasks.html"
   ]
  },
  {
   "cell_type": "code",
   "execution_count": null,
   "id": "460e4fd1",
   "metadata": {
    "lines_to_next_cell": 1
   },
   "outputs": [],
   "source": [
    "@ray.remote(num_cpus=0.1)\n",
    "def n_rands(n):\n",
    "    \"\"\"\n",
    "    Generate a list of n random numbers. Gets more expensive as n increases\n",
    "    \"\"\"\n",
    "    import random\n",
    "    return [random.uniform(0,1) for x in range(n)]"
   ]
  },
  {
   "cell_type": "code",
   "execution_count": null,
   "id": "1b09cc96",
   "metadata": {},
   "outputs": [],
   "source": [
    "arguments = range(1000)\n",
    "BATCH_SIZE = 8\n",
    "result_refs = []\n",
    "for i in arguments:\n",
    "\n",
    "    if len(result_refs) > BATCH_SIZE:\n",
    "        print(f\"batching {BATCH_SIZE}\")\n",
    "        num_ready = i-BATCH_SIZE\n",
    "        ray.wait(result_refs, num_returns=num_ready)\n",
    "\n",
    "    print(f\"appending results {i}\")\n",
    "    result_refs.append(n_rands.remote(i))"
   ]
  },
  {
   "cell_type": "markdown",
   "id": "ae29d0ed",
   "metadata": {},
   "source": [
    "# PATTERN Tree of tasks\n",
    "https://docs.ray.io/en/master/ray-design-patterns/tree-of-tasks.html"
   ]
  },
  {
   "cell_type": "code",
   "execution_count": null,
   "id": "e1171b24",
   "metadata": {
    "lines_to_next_cell": 1
   },
   "outputs": [],
   "source": [
    "def partition(collection):\n",
    "    # Use the last element as the first pivot\n",
    "    pivot = collection.pop()\n",
    "    greater, lesser = [], []\n",
    "    for element in collection:\n",
    "        if element > pivot:\n",
    "            greater.append(element)\n",
    "        else:\n",
    "           lesser.append(element)\n",
    "    return lesser, pivot, greater"
   ]
  },
  {
   "cell_type": "code",
   "execution_count": null,
   "id": "ff8f968a",
   "metadata": {
    "lines_to_next_cell": 1
   },
   "outputs": [],
   "source": [
    "def quick_sort(collection):\n",
    "    if len(collection) <= 20000:  # magic number\n",
    "        return sorted(collection)\n",
    "    else:\n",
    "        lesser, pivot, greater = partition(collection)\n",
    "        lesser = quick_sort(lesser)\n",
    "        greater = quick_sort(greater)\n",
    "        return lesser + [pivot] + greater"
   ]
  },
  {
   "cell_type": "code",
   "execution_count": null,
   "id": "277cd345",
   "metadata": {
    "lines_to_next_cell": 1
   },
   "outputs": [],
   "source": [
    "@ray.remote(num_cpus=0.5)\n",
    "def quick_sort_distributed(collection):\n",
    "    if len(collection) <= 20000:  # magic number\n",
    "        return sorted(collection)\n",
    "    else:\n",
    "        lesser, pivot, greater = partition(collection)\n",
    "        lesser = quick_sort_distributed.remote(lesser)\n",
    "        greater = quick_sort_distributed.remote(greater)\n",
    "        return ray.get(lesser) + [pivot] + ray.get(greater)"
   ]
  },
  {
   "cell_type": "code",
   "execution_count": null,
   "id": "7f11a442",
   "metadata": {
    "lines_to_next_cell": 1
   },
   "outputs": [],
   "source": [
    "@ray.remote\n",
    "def driver():\n",
    "    BIG_LIST = 200000\n",
    "    from numpy import random\n",
    "    import time\n",
    "    unsorted = random.randint(1000000, size=(BIG_LIST)).tolist()\n",
    "    s = time.time()\n",
    "    quick_sort(unsorted)\n",
    "    print(\"Sequential execution: \" + str(time.time() - s))\n",
    "    s = time.time()\n",
    "    ray.get(quick_sort_distributed.remote(unsorted))\n",
    "    print(\"Distributed execution: \" + str(time.time() - s))"
   ]
  },
  {
   "cell_type": "code",
   "execution_count": null,
   "id": "2866ef42",
   "metadata": {},
   "outputs": [],
   "source": [
    "if __name__ == \"__main__\":\n",
    "    ray.get(driver.remote())"
   ]
  },
  {
   "cell_type": "code",
   "execution_count": null,
   "id": "570a119e",
   "metadata": {
    "lines_to_next_cell": 2
   },
   "outputs": [],
   "source": []
  }
 ],
 "metadata": {
  "jupytext": {
   "cell_metadata_filter": "-all",
   "main_language": "python",
   "notebook_metadata_filter": "-all"
  }
 },
 "nbformat": 4,
 "nbformat_minor": 5
}
