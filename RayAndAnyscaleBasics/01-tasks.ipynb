{
 "cells": [
  {
   "cell_type": "markdown",
   "id": "036dc569",
   "metadata": {
    "lines_to_next_cell": 2
   },
   "source": [
    "# Tasks\n",
    "Let's import and connect to ray:"
   ]
  },
  {
   "cell_type": "code",
   "execution_count": null,
   "id": "1ae1ef34",
   "metadata": {
    "lines_to_next_cell": 1
   },
   "outputs": [],
   "source": [
    "# Imports\n",
    "import ray\n",
    "import time\n",
    "ray.init(address=\"auto\")"
   ]
  },
  {
   "cell_type": "markdown",
   "id": "d5455e30",
   "metadata": {},
   "source": [
    "# Remote invocation\n",
    "The fundamental pattern in Ray."
   ]
  },
  {
   "cell_type": "code",
   "execution_count": null,
   "id": "43aa8c71",
   "metadata": {
    "lines_to_next_cell": 1
   },
   "outputs": [],
   "source": [
    "# Here is a remote task.\n",
    "@ray.remote\n",
    "def my_remote_task():\n",
    "    print(\"Starting a task\")\n",
    "    time.sleep(2)\n",
    "    print(\"Finishing a task\")\n",
    "    return \"Finished a task\""
   ]
  },
  {
   "cell_type": "code",
   "execution_count": null,
   "id": "0dfc3904",
   "metadata": {},
   "outputs": [],
   "source": [
    "# Here is how to invoke it and retrieve its results\n",
    "ray.get(my_remote_task.remote())"
   ]
  },
  {
   "cell_type": "markdown",
   "id": "84f8a344",
   "metadata": {},
   "source": [
    "Remote invocation and blocking\n",
    "Think of how to distribute remote invocation and blocking returns."
   ]
  },
  {
   "cell_type": "code",
   "execution_count": null,
   "id": "c23c0856",
   "metadata": {},
   "outputs": [],
   "source": [
    "obj_ref = my_remote_task.remote()\n",
    "print(f\"An object reference: {obj_ref}\")"
   ]
  },
  {
   "cell_type": "code",
   "execution_count": null,
   "id": "e84754dd",
   "metadata": {},
   "outputs": [],
   "source": [
    "result = ray.get(obj_ref)\n",
    "print(f\"The result: {result}\")"
   ]
  },
  {
   "cell_type": "markdown",
   "id": "4878d145",
   "metadata": {},
   "source": [
    "# The most common error\n",
    "Pay attention to types in your error messages.  \n",
    "Sometimes you will find you have an object ref\n",
    "instead of what you're looking for, which is the output of ray.get(obj_ref)"
   ]
  },
  {
   "cell_type": "code",
   "execution_count": null,
   "id": "1a1baf2a",
   "metadata": {},
   "outputs": [],
   "source": [
    "# calling a remote function directly ERROR\n",
    "my_remote_task()"
   ]
  },
  {
   "cell_type": "code",
   "execution_count": null,
   "id": "eccf4290",
   "metadata": {},
   "outputs": [],
   "source": [
    "# adding refs ERROR\n",
    "obj_ref + obj_ref"
   ]
  },
  {
   "cell_type": "markdown",
   "id": "31321e1b",
   "metadata": {},
   "source": [
    "# Repeating tasks"
   ]
  },
  {
   "cell_type": "code",
   "execution_count": null,
   "id": "3b586e20",
   "metadata": {
    "lines_to_next_cell": 1
   },
   "outputs": [],
   "source": [
    "def a_func(i):\n",
    "    time.sleep(0.1)\n",
    "    return f\"The square of {i} is {i*i}\""
   ]
  },
  {
   "cell_type": "code",
   "execution_count": null,
   "id": "a52d0d9c",
   "metadata": {},
   "outputs": [],
   "source": [
    "# this is the same as annotating...\n",
    "remote_func = ray.remote(a_func)"
   ]
  },
  {
   "cell_type": "code",
   "execution_count": null,
   "id": "7496e430",
   "metadata": {},
   "outputs": [],
   "source": [
    "# this is slow\n",
    "for i in range(100):\n",
    "    print(a_func(i))"
   ]
  },
  {
   "cell_type": "code",
   "execution_count": null,
   "id": "06e85881",
   "metadata": {},
   "outputs": [],
   "source": [
    "# how about this:\n",
    "for i in range(100):\n",
    "    print(remote_func.remote(i))"
   ]
  },
  {
   "cell_type": "code",
   "execution_count": null,
   "id": "a13f519f",
   "metadata": {
    "lines_to_next_cell": 2
   },
   "outputs": [],
   "source": [
    "for i in range(100):\n",
    "    print(ray.get(remote_func.remote(i)))"
   ]
  },
  {
   "cell_type": "markdown",
   "id": "4ae52a72",
   "metadata": {},
   "source": [
    "# BEST PRACTICE ONE -- delay ray.get()"
   ]
  },
  {
   "cell_type": "code",
   "execution_count": null,
   "id": "e7984643",
   "metadata": {},
   "outputs": [],
   "source": [
    "refs = []\n",
    "for i in range(100):\n",
    "    refs.append(remote_func.remote(i))"
   ]
  },
  {
   "cell_type": "code",
   "execution_count": null,
   "id": "d83ac99f",
   "metadata": {},
   "outputs": [],
   "source": [
    "print(refs)"
   ]
  },
  {
   "cell_type": "code",
   "execution_count": null,
   "id": "1556c91e",
   "metadata": {},
   "outputs": [],
   "source": [
    "print(ray.get(refs))"
   ]
  },
  {
   "cell_type": "code",
   "execution_count": null,
   "id": "e0466ac4",
   "metadata": {
    "lines_to_next_cell": 1
   },
   "outputs": [],
   "source": [
    "nothing = [print(ray.get(r)) for r in refs]"
   ]
  },
  {
   "cell_type": "markdown",
   "id": "bcd08199",
   "metadata": {},
   "source": [
    "# BEST PRACTICE TWO -- backpressure\n",
    "https://docs.ray.io/en/master/ray-design-patterns/limit-tasks.html"
   ]
  },
  {
   "cell_type": "code",
   "execution_count": null,
   "id": "e896f27a",
   "metadata": {
    "lines_to_next_cell": 1
   },
   "outputs": [],
   "source": [
    "@ray.remote(num_cpus=0.1)\n",
    "def n_rands(n):\n",
    "    \"\"\"\n",
    "    Generate a list of n random numbers. Gets more expensive as n increases\n",
    "    \"\"\"\n",
    "    import random\n",
    "    return [random.uniform(0,1) for x in range(n)]"
   ]
  },
  {
   "cell_type": "code",
   "execution_count": null,
   "id": "61535709",
   "metadata": {},
   "outputs": [],
   "source": [
    "arguments = range(10000)\n",
    "BATCH_SIZE = 8\n",
    "result_refs = []\n",
    "for i in arguments:\n",
    "\n",
    "    if len(result_refs) > BATCH_SIZE:\n",
    "        print(f\"batching {BATCH_SIZE}\")\n",
    "        num_ready = i-BATCH_SIZE\n",
    "        ray.wait(result_refs, num_returns=num_ready)\n",
    "\n",
    "    print(f\"appending results {i}\")\n",
    "    result_refs.append(n_rands.remote(i))"
   ]
  },
  {
   "cell_type": "markdown",
   "id": "442146ca",
   "metadata": {},
   "source": [
    "# PATTERN Tree of tasks\n",
    "https://docs.ray.io/en/master/ray-design-patterns/tree-of-tasks.html"
   ]
  },
  {
   "cell_type": "code",
   "execution_count": null,
   "id": "1122f75c",
   "metadata": {
    "lines_to_next_cell": 1
   },
   "outputs": [],
   "source": [
    "def partition(collection):\n",
    "    # Use the last element as the first pivot\n",
    "    pivot = collection.pop()\n",
    "    greater, lesser = [], []\n",
    "    for element in collection:\n",
    "        if element > pivot:\n",
    "            greater.append(element)\n",
    "        else:\n",
    "           lesser.append(element)\n",
    "    return lesser, pivot, greater"
   ]
  },
  {
   "cell_type": "code",
   "execution_count": null,
   "id": "8103ecb8",
   "metadata": {
    "lines_to_next_cell": 1
   },
   "outputs": [],
   "source": [
    "def quick_sort(collection):\n",
    "    if len(collection) <= 200000:  # magic number\n",
    "        return sorted(collection)\n",
    "    else:\n",
    "        lesser, pivot, greater = partition(collection)\n",
    "        lesser = quick_sort(lesser)\n",
    "        greater = quick_sort(greater)\n",
    "        return lesser + [pivot] + greater"
   ]
  },
  {
   "cell_type": "code",
   "execution_count": null,
   "id": "896459ed",
   "metadata": {
    "lines_to_next_cell": 1
   },
   "outputs": [],
   "source": [
    "@ray.remote(num_cpus=0.2)\n",
    "def quick_sort_distributed(collection):\n",
    "    if len(collection) <= 200000:  # magic number\n",
    "        return sorted(collection)\n",
    "    else:\n",
    "        lesser, pivot, greater = partition(collection)\n",
    "        lesser = quick_sort_distributed.remote(lesser)\n",
    "        greater = quick_sort_distributed.remote(greater)\n",
    "        return ray.get(lesser) + [pivot] + ray.get(greater)"
   ]
  },
  {
   "cell_type": "code",
   "execution_count": null,
   "id": "be4f82e8",
   "metadata": {
    "lines_to_next_cell": 1
   },
   "outputs": [],
   "source": [
    "@ray.remote\n",
    "def driver():\n",
    "    BIG_LIST = 1_000_000\n",
    "    from numpy import random\n",
    "    import time\n",
    "    unsorted = random.randint(1000000, size=(BIG_LIST)).tolist()\n",
    "    s = time.time()\n",
    "    quick_sort(unsorted)\n",
    "    print(\"Sequential execution: \" + str(time.time() - s))\n",
    "    s = time.time()\n",
    "    ray.get(quick_sort_distributed.remote(unsorted))\n",
    "    print(\"Distributed execution: \" + str(time.time() - s))"
   ]
  },
  {
   "cell_type": "code",
   "execution_count": null,
   "id": "f58f6c20",
   "metadata": {},
   "outputs": [],
   "source": [
    "if __name__ == \"__main__\":\n",
    "    ray.get(driver.remote())"
   ]
  },
  {
   "cell_type": "code",
   "execution_count": null,
   "id": "774d4584",
   "metadata": {
    "lines_to_next_cell": 2
   },
   "outputs": [],
   "source": []
  }
 ],
 "metadata": {
  "jupytext": {
   "cell_metadata_filter": "-all",
   "main_language": "python",
   "notebook_metadata_filter": "-all"
  }
 },
 "nbformat": 4,
 "nbformat_minor": 5
}
