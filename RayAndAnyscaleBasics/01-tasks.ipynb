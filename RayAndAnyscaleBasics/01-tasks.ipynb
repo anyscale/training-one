{
 "cells": [
  {
   "cell_type": "markdown",
   "id": "d1c8eeca",
   "metadata": {},
   "source": [
    "# 01-Tasks\n",
    "Tasks are what we call remote functions running in a Ray cluster.\n",
    "This notebook gives you the chance to work with and compose tasks"
   ]
  },
  {
   "cell_type": "code",
   "execution_count": null,
   "id": "26834baa",
   "metadata": {
    "lines_to_next_cell": 1
   },
   "outputs": [],
   "source": [
    "# Let's import and connect to ray:\n",
    "import ray\n",
    "import time\n",
    "ray.init(address=\"auto\")"
   ]
  },
  {
   "cell_type": "markdown",
   "id": "eebe67b5",
   "metadata": {},
   "source": [
    "# Remote invocation\n",
    "The fundamental pattern in Ray."
   ]
  },
  {
   "cell_type": "code",
   "execution_count": null,
   "id": "1d324eb2",
   "metadata": {
    "lines_to_next_cell": 1
   },
   "outputs": [],
   "source": [
    "# Here is a remote task.\n",
    "@ray.remote\n",
    "def my_remote_task():\n",
    "    print(\"Starting a task\")\n",
    "    time.sleep(2)\n",
    "    print(\"Finishing a task\")\n",
    "    return \"Finished a task\""
   ]
  },
  {
   "cell_type": "code",
   "execution_count": null,
   "id": "803a9288",
   "metadata": {},
   "outputs": [],
   "source": [
    "# Here is how to invoke it and retrieve its results\n",
    "ray.get(my_remote_task.remote())"
   ]
  },
  {
   "cell_type": "code",
   "execution_count": null,
   "id": "4cf1d078",
   "metadata": {},
   "outputs": [],
   "source": [
    "# Distribute remote invocation and blocking returns.\n",
    "obj_ref = my_remote_task.remote()\n",
    "print(f\"An object reference: {obj_ref}\")\n",
    "ray.get(obj_ref)"
   ]
  },
  {
   "cell_type": "markdown",
   "id": "8e0433d0",
   "metadata": {},
   "source": [
    "# The most common error\n",
    "Pay attention to types in your error messages.  \n",
    "Sometimes you will find you have an object ref\n",
    "instead of what you're looking for, which is the output of ray.get(obj_ref)"
   ]
  },
  {
   "cell_type": "code",
   "execution_count": null,
   "id": "bbb26dfa",
   "metadata": {},
   "outputs": [],
   "source": [
    "# calling a remote function directly ERROR\n",
    "try:\n",
    "    my_remote_task()\n",
    "except TypeError as e:\n",
    "    print(e)\n",
    "#my_remote_task()"
   ]
  },
  {
   "cell_type": "code",
   "execution_count": null,
   "id": "b24a3a40",
   "metadata": {
    "lines_to_next_cell": 2
   },
   "outputs": [],
   "source": [
    "# adding refs ERROR\n",
    "try:\n",
    "    obj_ref + obj_ref\n",
    "except TypeError as e:\n",
    "    print(e)\n",
    "# obj_ref+obj_ref"
   ]
  },
  {
   "cell_type": "markdown",
   "id": "f5b0d334",
   "metadata": {},
   "source": [
    "# Repeating tasks\n",
    "What makes a task special?  You can run as many in paralell as you have compute at your disposal:"
   ]
  },
  {
   "cell_type": "code",
   "execution_count": null,
   "id": "1a9890bd",
   "metadata": {},
   "outputs": [],
   "source": [
    "def a_func(i):\n",
    "    time.sleep(0.1)\n",
    "    return f\"The square of {i} is {i*i}\"\n",
    "# this is the same as annotating...\n",
    "remote_func = ray.remote(a_func)"
   ]
  },
  {
   "cell_type": "code",
   "execution_count": null,
   "id": "fe219569",
   "metadata": {},
   "outputs": [],
   "source": [
    "# this is slow.  The calls all run one after another in a single thread.\n",
    "for i in range(100):\n",
    "    print(a_func(i))"
   ]
  },
  {
   "cell_type": "code",
   "execution_count": null,
   "id": "a1efdf4e",
   "metadata": {},
   "outputs": [],
   "source": [
    "# what will this do?\n",
    "for i in range(100):\n",
    "    print(remote_func.remote(i))"
   ]
  },
  {
   "cell_type": "code",
   "execution_count": null,
   "id": "758ffd41",
   "metadata": {},
   "outputs": [],
   "source": [
    "# Is this a good pattern?  (HINT: no.)\n",
    "for i in range(100):\n",
    "    print(ray.get(remote_func.remote(i)))"
   ]
  },
  {
   "cell_type": "markdown",
   "id": "d438c389",
   "metadata": {},
   "source": [
    "Some more things to try:\n",
    "scale up the numbers above and see how ray distributes tasks"
   ]
  },
  {
   "cell_type": "markdown",
   "id": "b8412bf3",
   "metadata": {},
   "source": [
    "# BEST PRACTICE ONE -- delay ray.get()"
   ]
  },
  {
   "cell_type": "code",
   "execution_count": null,
   "id": "b8987186",
   "metadata": {},
   "outputs": [],
   "source": [
    "refs = []\n",
    "for i in range(100):\n",
    "    refs.append(remote_func.remote(i))"
   ]
  },
  {
   "cell_type": "code",
   "execution_count": null,
   "id": "2c13be49",
   "metadata": {},
   "outputs": [],
   "source": [
    "print(refs)"
   ]
  },
  {
   "cell_type": "code",
   "execution_count": null,
   "id": "db87bb66",
   "metadata": {},
   "outputs": [],
   "source": [
    "print(ray.get(refs))"
   ]
  },
  {
   "cell_type": "code",
   "execution_count": null,
   "id": "656cf38e",
   "metadata": {
    "lines_to_next_cell": 1
   },
   "outputs": [],
   "source": [
    "nothing = [print(ray.get(r)) for r in refs]"
   ]
  },
  {
   "cell_type": "markdown",
   "id": "5288b0d4",
   "metadata": {},
   "source": [
    "# BEST PRACTICE TWO -- backpressure\n",
    "https://docs.ray.io/en/master/ray-design-patterns/limit-tasks.html"
   ]
  },
  {
   "cell_type": "code",
   "execution_count": null,
   "id": "60222cf6",
   "metadata": {
    "lines_to_next_cell": 1
   },
   "outputs": [],
   "source": [
    "@ray.remote(num_cpus=0.1)\n",
    "def n_rands(n):\n",
    "    \"\"\"\n",
    "    Generate a list of n random numbers. Gets more expensive as n increases\n",
    "    \"\"\"\n",
    "    import random\n",
    "    return [random.uniform(0,1) for x in range(n)]"
   ]
  },
  {
   "cell_type": "code",
   "execution_count": null,
   "id": "3f3fe711",
   "metadata": {},
   "outputs": [],
   "source": [
    "arguments = range(1000)\n",
    "BATCH_SIZE = 8\n",
    "result_refs = []\n",
    "for i in arguments:\n",
    "\n",
    "    if len(result_refs) > BATCH_SIZE:\n",
    "        print(f\"batching {BATCH_SIZE}\")\n",
    "        num_ready = i-BATCH_SIZE\n",
    "        ray.wait(result_refs, num_returns=num_ready)\n",
    "\n",
    "    print(f\"appending results {i}\")\n",
    "    result_refs.append(n_rands.remote(i))"
   ]
  },
  {
   "cell_type": "markdown",
   "id": "a29bb67f",
   "metadata": {},
   "source": [
    "# PATTERN Tree of tasks\n",
    "https://docs.ray.io/en/master/ray-design-patterns/tree-of-tasks.html"
   ]
  },
  {
   "cell_type": "code",
   "execution_count": null,
   "id": "84c6900f",
   "metadata": {
    "lines_to_next_cell": 1
   },
   "outputs": [],
   "source": [
    "def partition(collection):\n",
    "    # Use the last element as the first pivot\n",
    "    pivot = collection.pop()\n",
    "    greater, lesser = [], []\n",
    "    for element in collection:\n",
    "        if element > pivot:\n",
    "            greater.append(element)\n",
    "        else:\n",
    "           lesser.append(element)\n",
    "    return lesser, pivot, greater"
   ]
  },
  {
   "cell_type": "code",
   "execution_count": null,
   "id": "a62a56c1",
   "metadata": {
    "lines_to_next_cell": 1
   },
   "outputs": [],
   "source": [
    "def quick_sort(collection):\n",
    "    if len(collection) <= 20000:  # magic number\n",
    "        return sorted(collection)\n",
    "    else:\n",
    "        lesser, pivot, greater = partition(collection)\n",
    "        lesser = quick_sort(lesser)\n",
    "        greater = quick_sort(greater)\n",
    "        return lesser + [pivot] + greater"
   ]
  },
  {
   "cell_type": "code",
   "execution_count": null,
   "id": "007fa9eb",
   "metadata": {
    "lines_to_next_cell": 1
   },
   "outputs": [],
   "source": [
    "@ray.remote(num_cpus=0.5)\n",
    "def quick_sort_distributed(collection):\n",
    "    if len(collection) <= 20000:  # magic number\n",
    "        return sorted(collection)\n",
    "    else:\n",
    "        lesser, pivot, greater = partition(collection)\n",
    "        lesser = quick_sort_distributed.remote(lesser)\n",
    "        greater = quick_sort_distributed.remote(greater)\n",
    "        return ray.get(lesser) + [pivot] + ray.get(greater)"
   ]
  },
  {
   "cell_type": "code",
   "execution_count": null,
   "id": "649d5370",
   "metadata": {
    "lines_to_next_cell": 1
   },
   "outputs": [],
   "source": [
    "@ray.remote\n",
    "def driver():\n",
    "    BIG_LIST = 200000\n",
    "    from numpy import random\n",
    "    import time\n",
    "    unsorted = random.randint(1000000, size=(BIG_LIST)).tolist()\n",
    "    s = time.time()\n",
    "    quick_sort(unsorted)\n",
    "    print(\"Sequential execution: \" + str(time.time() - s))\n",
    "    s = time.time()\n",
    "    ray.get(quick_sort_distributed.remote(unsorted))\n",
    "    print(\"Distributed execution: \" + str(time.time() - s))"
   ]
  },
  {
   "cell_type": "code",
   "execution_count": null,
   "id": "b4acbe78",
   "metadata": {},
   "outputs": [],
   "source": [
    "if __name__ == \"__main__\":\n",
    "    ray.get(driver.remote())"
   ]
  },
  {
   "cell_type": "code",
   "execution_count": null,
   "id": "e8d37389",
   "metadata": {
    "lines_to_next_cell": 2
   },
   "outputs": [],
   "source": []
  }
 ],
 "metadata": {
  "jupytext": {
   "cell_metadata_filter": "-all",
   "main_language": "python",
   "notebook_metadata_filter": "-all"
  }
 },
 "nbformat": 4,
 "nbformat_minor": 5
}
