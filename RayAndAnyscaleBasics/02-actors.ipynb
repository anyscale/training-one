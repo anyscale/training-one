{
 "cells": [
  {
   "cell_type": "code",
   "execution_count": null,
   "id": "8fec7786",
   "metadata": {
    "lines_to_next_cell": 1
   },
   "outputs": [],
   "source": [
    "## Notebook Two Actors\n",
    "# Imports\n",
    "import ray\n",
    "import time\n",
    "ray.init(address=\"auto\", namespace=\"actors\")"
   ]
  },
  {
   "cell_type": "markdown",
   "id": "ff7babcd",
   "metadata": {},
   "source": [
    "Actors are remote objects with state and methods.  \n",
    "Ray negotiates the relationship between actor references"
   ]
  },
  {
   "cell_type": "code",
   "execution_count": null,
   "id": "20c3bc8c",
   "metadata": {
    "lines_to_next_cell": 1
   },
   "outputs": [],
   "source": [
    "@ray.remote\n",
    "class Counter():\n",
    "    def __init__(self):\n",
    "        self.n = 0\n",
    "    def work(self):\n",
    "        self.n += 1\n",
    "        print(f\"I've been called {self.n} times.\")\n",
    "        return self.n"
   ]
  },
  {
   "cell_type": "code",
   "execution_count": null,
   "id": "9fc4bfb3",
   "metadata": {
    "lines_to_next_cell": 1
   },
   "outputs": [],
   "source": [
    "a = Counter.remote()\n",
    "a.work.remote()\n",
    "a.work.remote()\n",
    "a.work.remote()\n",
    "a.work.remote()\n",
    "print(f\"I did a total of {ray.get(a.work.remote())} calls.\")"
   ]
  },
  {
   "cell_type": "markdown",
   "id": "ffcd85f9",
   "metadata": {},
   "source": [
    "# Instantiating"
   ]
  },
  {
   "cell_type": "code",
   "execution_count": null,
   "id": "8cd4dd00",
   "metadata": {
    "lines_to_next_cell": 1
   },
   "outputs": [],
   "source": [
    "@ray.remote\n",
    "class Friend():\n",
    "    def __init__(self, name):\n",
    "        self.name = name\n",
    "        self.friends = set()\n",
    "    def addFriend(self, other):\n",
    "        self.friends.add(other)\n",
    "    def getName(self):\n",
    "        return self.name\n",
    "    def display(self):\n",
    "        return f\"{self.name}: {[ray.get(f.getName.remote()) for f in self.listFriends()]}\"\n",
    "    def listFriends(self):\n",
    "        return self.friends"
   ]
  },
  {
   "cell_type": "code",
   "execution_count": null,
   "id": "ac9170f7",
   "metadata": {
    "lines_to_next_cell": 1
   },
   "outputs": [],
   "source": [
    "@ray.remote\n",
    "def meet(p1, p2):\n",
    "    p1.addFriend.remote(p2)\n",
    "    p2.addFriend.remote(p1)"
   ]
  },
  {
   "cell_type": "code",
   "execution_count": null,
   "id": "5c758e3e",
   "metadata": {},
   "outputs": [],
   "source": [
    "f1 = Friend.remote(\"Randolph\")\n",
    "f2 = Friend.remote(\"Dexter\")\n",
    "f3 = Friend.remote(\"Molecule\")\n",
    "meet.remote(f1,f2)\n",
    "meet.remote(f1,f3)\n",
    "labels = [ray.get(x.display.remote()) for x in [f1, f2, f3]]\n",
    "print(labels)"
   ]
  },
  {
   "cell_type": "code",
   "execution_count": null,
   "id": "31720d01",
   "metadata": {},
   "outputs": [],
   "source": [
    "labels = [ray.get(x.display.remote()) for x in [f1, f2, f3]]"
   ]
  },
  {
   "cell_type": "markdown",
   "id": "7e194875",
   "metadata": {},
   "source": [
    "# Naming Actors"
   ]
  },
  {
   "cell_type": "code",
   "execution_count": null,
   "id": "aeddd858",
   "metadata": {},
   "outputs": [],
   "source": [
    "named_actor = Friend.options(name=\"Randolph\").remote(\"Randolph's name\")"
   ]
  },
  {
   "cell_type": "code",
   "execution_count": null,
   "id": "8628fad5",
   "metadata": {
    "lines_to_next_cell": 1
   },
   "outputs": [],
   "source": [
    "fetch_an_actor = ray.get_actor(\"Randolph\")"
   ]
  },
  {
   "cell_type": "markdown",
   "id": "03a937b3",
   "metadata": {},
   "source": [
    "# Actor Scope"
   ]
  },
  {
   "cell_type": "code",
   "execution_count": null,
   "id": "8d9cefca",
   "metadata": {
    "lines_to_next_cell": 1
   },
   "outputs": [],
   "source": [
    "@ray.remote\n",
    "def spawn():\n",
    "    f = Friend.options(name=\"Jo\").remote(\"Jo\")"
   ]
  },
  {
   "cell_type": "code",
   "execution_count": null,
   "id": "2232bdae",
   "metadata": {
    "lines_to_next_cell": 1
   },
   "outputs": [],
   "source": [
    "ray.get(spawn.remote())\n",
    "jo = ray.get_actor(\"Jo\")  # ERROR"
   ]
  },
  {
   "cell_type": "code",
   "execution_count": null,
   "id": "3f312055",
   "metadata": {
    "lines_to_next_cell": 1
   },
   "outputs": [],
   "source": [
    "# detach it and force evaluation to 'save' it to the container for shared use\n",
    "@ray.remote\n",
    "def spawn_really():\n",
    "    f = Friend.options(name=\"Bev\", lifetime=\"detached\").remote(\"Bev\")"
   ]
  },
  {
   "cell_type": "code",
   "execution_count": null,
   "id": "26925dd5",
   "metadata": {
    "lines_to_next_cell": 2
   },
   "outputs": [],
   "source": [
    "ray.get(spawn_really.remote())\n",
    "bev = ray.get_actor(\"Bev\")"
   ]
  },
  {
   "cell_type": "markdown",
   "id": "360ca8d6",
   "metadata": {
    "lines_to_next_cell": 2
   },
   "source": [
    "# Detatched Actors"
   ]
  },
  {
   "cell_type": "markdown",
   "id": "2470033c",
   "metadata": {},
   "source": [
    "# PATTERN Tree of Actors\n",
    "https://docs.ray.io/en/master/ray-design-patterns/tree-of-actors.html"
   ]
  },
  {
   "cell_type": "code",
   "execution_count": null,
   "id": "80bc4e2a",
   "metadata": {
    "lines_to_next_cell": 1
   },
   "outputs": [],
   "source": [
    "@ray.remote(num_cpus=1)\n",
    "class Worker:\n",
    "    def work(self):\n",
    "        return \"done\""
   ]
  },
  {
   "cell_type": "code",
   "execution_count": null,
   "id": "107c19b7",
   "metadata": {
    "lines_to_next_cell": 1
   },
   "outputs": [],
   "source": [
    "@ray.remote(num_cpus=1)\n",
    "class Supervisor:\n",
    "    def __init__(self):\n",
    "        self.workers = [Worker.remote() for _ in range(3)]\n",
    "    def work(self):\n",
    "        return ray.get([w.work.remote() for w in self.workers])"
   ]
  },
  {
   "cell_type": "code",
   "execution_count": null,
   "id": "59a2a7c4",
   "metadata": {},
   "outputs": [],
   "source": [
    "sup = Supervisor.remote()\n",
    "print(ray.get(sup.work.remote()))  # outputs ['done', 'done', 'done']"
   ]
  }
 ],
 "metadata": {
  "jupytext": {
   "cell_metadata_filter": "-all",
   "main_language": "python",
   "notebook_metadata_filter": "-all"
  }
 },
 "nbformat": 4,
 "nbformat_minor": 5
}
