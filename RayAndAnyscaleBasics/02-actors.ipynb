{
 "cells": [
  {
   "cell_type": "markdown",
   "id": "eb99b218",
   "metadata": {},
   "source": [
    "# Notebook Two Actors"
   ]
  },
  {
   "cell_type": "code",
   "execution_count": null,
   "id": "55f93529",
   "metadata": {
    "lines_to_next_cell": 1
   },
   "outputs": [],
   "source": [
    "# Imports\n",
    "import ray\n",
    "import time\n",
    "ray.init(address=\"auto\", namespace=\"actors\")"
   ]
  },
  {
   "cell_type": "markdown",
   "id": "cd63b144",
   "metadata": {},
   "source": [
    "# Actors are remote objects with state and methods.  \n",
    "You create an actor by instantiating a remote object"
   ]
  },
  {
   "cell_type": "code",
   "execution_count": null,
   "id": "dcbe2bd7",
   "metadata": {
    "lines_to_next_cell": 1
   },
   "outputs": [],
   "source": [
    "# This actor counts how many times it has been invoked\n",
    "@ray.remote\n",
    "class Counter():\n",
    "    def __init__(self, name):\n",
    "        self.name = name\n",
    "        self.n = 0\n",
    "    def work(self):\n",
    "        self.n += 1\n",
    "        print(f\"Counter {self.name} has been called {self.n} times.\")\n",
    "        return self.n"
   ]
  },
  {
   "cell_type": "code",
   "execution_count": null,
   "id": "1aa3c917",
   "metadata": {},
   "outputs": [],
   "source": [
    "a = Counter.remote(\"a\")\n",
    "a.work.remote()\n",
    "a.work.remote()\n",
    "a.work.remote()\n",
    "a.work.remote()\n",
    "print(f\"I did a total of {ray.get(a.work.remote())} calls.\")"
   ]
  },
  {
   "cell_type": "code",
   "execution_count": null,
   "id": "146a761a",
   "metadata": {},
   "outputs": [],
   "source": [
    "# We'll make a few copies of it to demonstrate\n",
    "a = Counter.remote(\"a\")\n",
    "b = Counter.remote(\"b\")\n",
    "c = Counter.remote(\"c\")"
   ]
  },
  {
   "cell_type": "code",
   "execution_count": null,
   "id": "81fb2c96",
   "metadata": {
    "lines_to_next_cell": 1
   },
   "outputs": [],
   "source": [
    "a.work.remote()\n",
    "a.work.remote()\n",
    "b.work.remote()\n",
    "c.work.remote()\n",
    "c.work.remote()\n",
    "c.work.remote()"
   ]
  },
  {
   "cell_type": "markdown",
   "id": "b116ce99",
   "metadata": {},
   "source": [
    "As with tasks, there are certain things you cannot do with Actors:"
   ]
  },
  {
   "cell_type": "markdown",
   "id": "fb7f285e",
   "metadata": {},
   "source": [
    "x = Counter()"
   ]
  },
  {
   "cell_type": "markdown",
   "id": "cb0ddf8f",
   "metadata": {},
   "source": [
    "x = Counter.remote()\n",
    "x.work()"
   ]
  },
  {
   "cell_type": "markdown",
   "id": "599cbbcb",
   "metadata": {},
   "source": [
    "# Instantiating"
   ]
  },
  {
   "cell_type": "code",
   "execution_count": null,
   "id": "9ef3e164",
   "metadata": {
    "lines_to_next_cell": 1
   },
   "outputs": [],
   "source": [
    "@ray.remote\n",
    "class Friend():\n",
    "    def __init__(self, name):\n",
    "        self.name = name\n",
    "        self.friends = set()\n",
    "    def addFriend(self, other):\n",
    "        self.friends.add(other)\n",
    "    def getName(self):\n",
    "        return self.name\n",
    "    def display(self):\n",
    "        return f\"{self.name}: {[ray.get(f.getName.remote()) for f in self.listFriends()]}\"\n",
    "    def listFriends(self):\n",
    "        return self.friends"
   ]
  },
  {
   "cell_type": "code",
   "execution_count": null,
   "id": "0ef611ee",
   "metadata": {
    "lines_to_next_cell": 1
   },
   "outputs": [],
   "source": [
    "# A task to introduce two people to each other\n",
    "@ray.remote\n",
    "def meet(p1, p2):\n",
    "    p1.addFriend.remote(p2)\n",
    "    p2.addFriend.remote(p1)"
   ]
  },
  {
   "cell_type": "code",
   "execution_count": null,
   "id": "cd06023f",
   "metadata": {},
   "outputs": [],
   "source": [
    "f1 = Friend.remote(\"Randolph\")\n",
    "f2 = Friend.remote(\"Dexter\")\n",
    "f3 = Friend.remote(\"Molecule\")\n",
    "meet.remote(f1,f2)\n",
    "meet.remote(f1,f3)"
   ]
  },
  {
   "cell_type": "code",
   "execution_count": null,
   "id": "10755e15",
   "metadata": {},
   "outputs": [],
   "source": [
    "# Let's take a look at the values\n",
    "ray.get(f1.getName.remote())"
   ]
  },
  {
   "cell_type": "code",
   "execution_count": null,
   "id": "d8410cc5",
   "metadata": {},
   "outputs": [],
   "source": [
    "# let's see if everyone is hooked up\n",
    "labels = [ray.get(x.display.remote()) for x in [f1, f2, f3]]\n",
    "labels"
   ]
  },
  {
   "cell_type": "markdown",
   "id": "9e82e8c3",
   "metadata": {},
   "source": [
    "# Actors can interact\n",
    "Pass object references between actor methods.  Actors know to operate\n",
    "on the remote object"
   ]
  },
  {
   "cell_type": "code",
   "execution_count": null,
   "id": "b6373fcd",
   "metadata": {
    "lines_to_next_cell": 1
   },
   "outputs": [],
   "source": [
    "@ray.remote\n",
    "class Rock:\n",
    "    def __init__(self):\n",
    "        self.location = 0\n",
    "    def move(self):\n",
    "        self.location += 1\n",
    "    def locate(self):\n",
    "        return f\"{self.location} feet from home.\""
   ]
  },
  {
   "cell_type": "code",
   "execution_count": null,
   "id": "3dfa3230",
   "metadata": {
    "lines_to_next_cell": 1
   },
   "outputs": [],
   "source": [
    "@ray.remote\n",
    "class RockPusher:\n",
    "    def push_the_rock(self, rock):\n",
    "        rock.move.remote()\n",
    "        ray.get(rock.locate.remote())  # force evaluation"
   ]
  },
  {
   "cell_type": "code",
   "execution_count": null,
   "id": "fed6317f",
   "metadata": {},
   "outputs": [],
   "source": [
    "rock = Rock.remote()\n",
    "pusherA = RockPusher.remote()\n",
    "pusherB = RockPusher.remote()"
   ]
  },
  {
   "cell_type": "code",
   "execution_count": null,
   "id": "b8312231",
   "metadata": {},
   "outputs": [],
   "source": [
    "pusherA.push_the_rock.remote(rock)\n",
    "pusherA.push_the_rock.remote(rock)\n",
    "pusherB.push_the_rock.remote(rock)\n",
    "pusherA.push_the_rock.remote(rock)\n",
    "pusherA.push_the_rock.remote(rock)"
   ]
  },
  {
   "cell_type": "code",
   "execution_count": null,
   "id": "8b0dcea8",
   "metadata": {},
   "outputs": [],
   "source": [
    "#time.sleep(1)\n",
    "ray.get(rock.locate.remote())"
   ]
  },
  {
   "cell_type": "code",
   "execution_count": null,
   "id": "61605d07",
   "metadata": {
    "lines_to_next_cell": 2
   },
   "outputs": [],
   "source": []
  },
  {
   "cell_type": "code",
   "execution_count": null,
   "id": "a3964f8b",
   "metadata": {},
   "outputs": [],
   "source": [
    "## Naming Actors\n",
    "@ray.remote\n",
    "class Shouter():\n",
    "    def __init__(self, words):\n",
    "        self.words = \"HEY \" + words + \"!\"\n",
    "    def shout(self):\n",
    "        return self.words\n",
    "    def work(self):\n",
    "        self.words += \"THERE!\"\n",
    "        return self.words\n",
    "named_actor = Shouter.options(name=\"Randolph\").remote(\"YOU\")\n",
    "ray.get(named_actor.shout.remote())"
   ]
  },
  {
   "cell_type": "code",
   "execution_count": null,
   "id": "87b14dd0",
   "metadata": {},
   "outputs": [],
   "source": [
    "r2 = ray.get_actor(\"Randolph\")\n",
    "ray.get(r2.work.remote())"
   ]
  },
  {
   "cell_type": "markdown",
   "id": "7719feec",
   "metadata": {},
   "source": [
    "# Actor Scope"
   ]
  },
  {
   "cell_type": "code",
   "execution_count": null,
   "id": "b8e5bcc7",
   "metadata": {
    "lines_to_next_cell": 1
   },
   "outputs": [],
   "source": [
    "@ray.remote\n",
    "def spawn():\n",
    "    f = Friend.options(name=\"Jo\").remote(\"Jo\")"
   ]
  },
  {
   "cell_type": "code",
   "execution_count": null,
   "id": "00f28981",
   "metadata": {
    "lines_to_next_cell": 1
   },
   "outputs": [],
   "source": [
    "ray.get(spawn.remote())\n",
    "try:\n",
    "    jo = ray.get_actor(\"Jo\")  # ERROR\n",
    "except ValueError as e:\n",
    "    print(e)"
   ]
  },
  {
   "cell_type": "code",
   "execution_count": null,
   "id": "9c23b052",
   "metadata": {
    "lines_to_next_cell": 1
   },
   "outputs": [],
   "source": [
    "## Detach an actor and it will stick around (in the active namespace)\n",
    "@ray.remote\n",
    "def spawn_really():\n",
    "    f = Friend.options(name=\"Bev\", lifetime=\"detached\").remote(\"Bev\")"
   ]
  },
  {
   "cell_type": "code",
   "execution_count": null,
   "id": "6ad0a20c",
   "metadata": {},
   "outputs": [],
   "source": [
    "ray.get(spawn_really.remote())\n",
    "bev = ray.get_actor(\"Bev\")"
   ]
  },
  {
   "cell_type": "code",
   "execution_count": null,
   "id": "804bd89b",
   "metadata": {
    "lines_to_next_cell": 2
   },
   "outputs": [],
   "source": []
  },
  {
   "cell_type": "markdown",
   "id": "5790672c",
   "metadata": {},
   "source": [
    "# PATTERN Tree of Actors\n",
    "https://docs.ray.io/en/master/ray-design-patterns/tree-of-actors.html"
   ]
  },
  {
   "cell_type": "code",
   "execution_count": null,
   "id": "681c7fce",
   "metadata": {
    "lines_to_next_cell": 1
   },
   "outputs": [],
   "source": [
    "@ray.remote(num_cpus=1)\n",
    "class Worker:\n",
    "    def work(self):\n",
    "        return \"done\""
   ]
  },
  {
   "cell_type": "code",
   "execution_count": null,
   "id": "8779a7f9",
   "metadata": {
    "lines_to_next_cell": 1
   },
   "outputs": [],
   "source": [
    "@ray.remote(num_cpus=1)\n",
    "class Supervisor:\n",
    "    def __init__(self):\n",
    "        self.workers = [Worker.remote() for _ in range(3)]\n",
    "    def work(self):\n",
    "        return ray.get([w.work.remote() for w in self.workers])"
   ]
  },
  {
   "cell_type": "code",
   "execution_count": null,
   "id": "bc5c49d2",
   "metadata": {
    "lines_to_next_cell": 2
   },
   "outputs": [],
   "source": [
    "sup = Supervisor.remote()\n",
    "print(ray.get(sup.work.remote()))  "
   ]
  },
  {
   "cell_type": "markdown",
   "id": "8b439467",
   "metadata": {},
   "source": [
    "# PATTERN Signal Actor\n",
    "This actor's purpose is to make sure it blocks until some important resource is ready"
   ]
  },
  {
   "cell_type": "code",
   "execution_count": null,
   "id": "6567e06f",
   "metadata": {
    "lines_to_next_cell": 1
   },
   "outputs": [],
   "source": [
    "from ray.test_utils import SignalActor"
   ]
  },
  {
   "cell_type": "code",
   "execution_count": null,
   "id": "ce4330fa",
   "metadata": {
    "lines_to_next_cell": 1
   },
   "outputs": [],
   "source": [
    "@ray.remote\n",
    "def wait_and_go(signal):\n",
    "    ray.get(signal.wait.remote())\n",
    "\n",
    "    print(\"go!\")\n",
    "    return \"I went.\""
   ]
  },
  {
   "cell_type": "code",
   "execution_count": null,
   "id": "62831b06",
   "metadata": {},
   "outputs": [],
   "source": [
    "signal = SignalActor.remote()\n",
    "tasks = [wait_and_go.remote(signal) for _ in range(4)]\n",
    "print(\"ready...\")\n",
    "# Tasks will all be waiting for the signals.\n",
    "print(\"set..\")\n",
    "ray.get(signal.send.remote())"
   ]
  },
  {
   "cell_type": "code",
   "execution_count": null,
   "id": "d44da023",
   "metadata": {},
   "outputs": [],
   "source": [
    "# Tasks are unblocked.\n",
    "ray.get(tasks)"
   ]
  }
 ],
 "metadata": {
  "jupytext": {
   "cell_metadata_filter": "-all",
   "main_language": "python",
   "notebook_metadata_filter": "-all"
  }
 },
 "nbformat": 4,
 "nbformat_minor": 5
}
