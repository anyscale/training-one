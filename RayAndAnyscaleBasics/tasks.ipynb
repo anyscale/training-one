{
 "cells": [
  {
   "cell_type": "markdown",
   "id": "ced144f2",
   "metadata": {
    "lines_to_next_cell": 2
   },
   "source": [
    "# Tasks\n",
    "Let's import and connect to ray:"
   ]
  },
  {
   "cell_type": "code",
   "execution_count": null,
   "id": "0555f1ac",
   "metadata": {
    "lines_to_next_cell": 1
   },
   "outputs": [],
   "source": [
    "# Imports\n",
    "import ray\n",
    "import time\n",
    "ray.init(address=\"auto\")"
   ]
  },
  {
   "cell_type": "markdown",
   "id": "38166230",
   "metadata": {},
   "source": [
    "# Remote invocation\n",
    "The fundamental pattern in Ray."
   ]
  },
  {
   "cell_type": "code",
   "execution_count": null,
   "id": "1ab5cf69",
   "metadata": {
    "lines_to_next_cell": 1
   },
   "outputs": [],
   "source": [
    "# Here is a remote task.\n",
    "@ray.remote\n",
    "def my_remote_task():\n",
    "    print(\"Starting a task\")\n",
    "    time.sleep(2)\n",
    "    print(\"Finishing a task\")\n",
    "    return \"Finished a task\""
   ]
  },
  {
   "cell_type": "code",
   "execution_count": null,
   "id": "40671467",
   "metadata": {},
   "outputs": [],
   "source": [
    "# Here is how to invoke it and retrieve its results\n",
    "ray.get(my_remote_task.remote())"
   ]
  },
  {
   "cell_type": "markdown",
   "id": "3e17705c",
   "metadata": {},
   "source": [
    "Remote invocation and blocking\n",
    "Think of how to distribute remote invocation and blocking returns."
   ]
  },
  {
   "cell_type": "code",
   "execution_count": null,
   "id": "e66cc855",
   "metadata": {},
   "outputs": [],
   "source": [
    "obj_ref = my_remote_task.remote()\n",
    "print(f\"An object reference: {obj_ref}\")"
   ]
  },
  {
   "cell_type": "code",
   "execution_count": null,
   "id": "9b727cc8",
   "metadata": {},
   "outputs": [],
   "source": [
    "result = ray.get(obj_ref)\n",
    "print(f\"The result: {result}\")"
   ]
  },
  {
   "cell_type": "markdown",
   "id": "329af01f",
   "metadata": {},
   "source": [
    "# The most common error\n",
    "Pay attention to types in your error messages.  \n",
    "Sometimes you will find you have an object ref\n",
    "instead of what you're looking for, which is the output of ray.get(obj_ref)"
   ]
  },
  {
   "cell_type": "code",
   "execution_count": null,
   "id": "c9cb6d29",
   "metadata": {},
   "outputs": [],
   "source": [
    "# calling a remote function directly ERROR\n",
    "my_remote_task()"
   ]
  },
  {
   "cell_type": "code",
   "execution_count": null,
   "id": "2407f740",
   "metadata": {},
   "outputs": [],
   "source": [
    "# adding refs ERROR\n",
    "obj_ref + obj_ref"
   ]
  },
  {
   "cell_type": "markdown",
   "id": "0e6fc59f",
   "metadata": {},
   "source": [
    "# Repeating tasks"
   ]
  },
  {
   "cell_type": "code",
   "execution_count": null,
   "id": "e3790ef2",
   "metadata": {
    "lines_to_next_cell": 1
   },
   "outputs": [],
   "source": [
    "def a_func(i):\n",
    "    time.sleep(0.1)\n",
    "    return f\"The square of {i} is {i*i}\""
   ]
  },
  {
   "cell_type": "code",
   "execution_count": null,
   "id": "2c3ae660",
   "metadata": {},
   "outputs": [],
   "source": [
    "# this is the same as annotating...\n",
    "remote_func = ray.remote(a_func)"
   ]
  },
  {
   "cell_type": "code",
   "execution_count": null,
   "id": "18ca39b0",
   "metadata": {},
   "outputs": [],
   "source": [
    "# this is slow\n",
    "for i in range(100):\n",
    "    print(a_func(i))"
   ]
  },
  {
   "cell_type": "code",
   "execution_count": null,
   "id": "6484ba28",
   "metadata": {},
   "outputs": [],
   "source": [
    "# how about this:\n",
    "for i in range(100):\n",
    "    print(remote_func.remote(i))"
   ]
  },
  {
   "cell_type": "code",
   "execution_count": null,
   "id": "1215b07b",
   "metadata": {
    "lines_to_next_cell": 2
   },
   "outputs": [],
   "source": [
    "for i in range(100):\n",
    "    print(ray.get(remote_func.remote(i)))"
   ]
  },
  {
   "cell_type": "markdown",
   "id": "d5969566",
   "metadata": {},
   "source": [
    "# BEST PRACTICE ONE -- delay ray.get()"
   ]
  },
  {
   "cell_type": "code",
   "execution_count": null,
   "id": "96721f66",
   "metadata": {},
   "outputs": [],
   "source": [
    "refs = []\n",
    "for i in range(100):\n",
    "    refs.append(remote_func.remote(i))"
   ]
  },
  {
   "cell_type": "code",
   "execution_count": null,
   "id": "9863bd18",
   "metadata": {},
   "outputs": [],
   "source": [
    "print(refs)"
   ]
  },
  {
   "cell_type": "code",
   "execution_count": null,
   "id": "80ad5d0f",
   "metadata": {},
   "outputs": [],
   "source": [
    "print(ray.get(refs))"
   ]
  },
  {
   "cell_type": "code",
   "execution_count": null,
   "id": "89926087",
   "metadata": {
    "lines_to_next_cell": 1
   },
   "outputs": [],
   "source": [
    "nothing = [print(ray.get(r)) for r in refs]"
   ]
  },
  {
   "cell_type": "markdown",
   "id": "afd354d0",
   "metadata": {},
   "source": [
    "# BEST PRACTICE TWO -- backpressure\n",
    "https://docs.ray.io/en/master/ray-design-patterns/limit-tasks.html"
   ]
  },
  {
   "cell_type": "code",
   "execution_count": null,
   "id": "fd50a42a",
   "metadata": {
    "lines_to_next_cell": 1
   },
   "outputs": [],
   "source": [
    "@ray.remote(num_cpus=0.1)\n",
    "def n_rands(n):\n",
    "    \"\"\"\n",
    "    Generate a list of n random numbers. Gets more expensive as n increases\n",
    "    \"\"\"\n",
    "    import random\n",
    "    return [random.uniform(0,1) for x in range(n)]"
   ]
  },
  {
   "cell_type": "code",
   "execution_count": null,
   "id": "ab0e0483",
   "metadata": {},
   "outputs": [],
   "source": [
    "arguments = range(10000)\n",
    "BATCH_SIZE = 8\n",
    "result_refs = []\n",
    "for i in arguments:\n",
    "\n",
    "    if len(result_refs) > BATCH_SIZE:\n",
    "        print(f\"batching {BATCH_SIZE}\")\n",
    "        num_ready = i-BATCH_SIZE\n",
    "        ray.wait(result_refs, num_returns=num_ready)\n",
    "\n",
    "    print(f\"appending results {i}\")\n",
    "    result_refs.append(n_rands.remote(i))"
   ]
  },
  {
   "cell_type": "markdown",
   "id": "b83e373b",
   "metadata": {},
   "source": [
    "# PATTERN Tree of tasks\n",
    "https://docs.ray.io/en/master/ray-design-patterns/tree-of-tasks.html"
   ]
  },
  {
   "cell_type": "code",
   "execution_count": null,
   "id": "deaba895",
   "metadata": {
    "lines_to_next_cell": 1
   },
   "outputs": [],
   "source": [
    "def partition(collection):\n",
    "    # Use the last element as the first pivot\n",
    "    pivot = collection.pop()\n",
    "    greater, lesser = [], []\n",
    "    for element in collection:\n",
    "        if element > pivot:\n",
    "            greater.append(element)\n",
    "        else:\n",
    "           lesser.append(element)\n",
    "    return lesser, pivot, greater"
   ]
  },
  {
   "cell_type": "code",
   "execution_count": null,
   "id": "5b75e7a2",
   "metadata": {
    "lines_to_next_cell": 1
   },
   "outputs": [],
   "source": [
    "def quick_sort(collection):\n",
    "    if len(collection) <= 200000:  # magic number\n",
    "        return sorted(collection)\n",
    "    else:\n",
    "        lesser, pivot, greater = partition(collection)\n",
    "        lesser = quick_sort(lesser)\n",
    "        greater = quick_sort(greater)\n",
    "        return lesser + [pivot] + greater"
   ]
  },
  {
   "cell_type": "code",
   "execution_count": null,
   "id": "51c807a8",
   "metadata": {
    "lines_to_next_cell": 1
   },
   "outputs": [],
   "source": [
    "@ray.remote(num_cpus=0.2)\n",
    "def quick_sort_distributed(collection):\n",
    "    if len(collection) <= 200000:  # magic number\n",
    "        return sorted(collection)\n",
    "    else:\n",
    "        lesser, pivot, greater = partition(collection)\n",
    "        lesser = quick_sort_distributed.remote(lesser)\n",
    "        greater = quick_sort_distributed.remote(greater)\n",
    "        return ray.get(lesser) + [pivot] + ray.get(greater)"
   ]
  },
  {
   "cell_type": "code",
   "execution_count": null,
   "id": "44020dc4",
   "metadata": {
    "lines_to_next_cell": 1
   },
   "outputs": [],
   "source": [
    "@ray.remote\n",
    "def driver():\n",
    "    BIG_LIST = 1_000_000\n",
    "    from numpy import random\n",
    "    import time\n",
    "    unsorted = random.randint(1000000, size=(BIG_LIST)).tolist()\n",
    "    s = time.time()\n",
    "    quick_sort(unsorted)\n",
    "    print(\"Sequential execution: \" + str(time.time() - s))\n",
    "    s = time.time()\n",
    "    ray.get(quick_sort_distributed.remote(unsorted))\n",
    "    print(\"Distributed execution: \" + str(time.time() - s))"
   ]
  },
  {
   "cell_type": "code",
   "execution_count": null,
   "id": "55514025",
   "metadata": {},
   "outputs": [],
   "source": [
    "if __name__ == \"__main__\":\n",
    "    ray.get(driver.remote())"
   ]
  },
  {
   "cell_type": "code",
   "execution_count": null,
   "id": "fcec9a20",
   "metadata": {
    "lines_to_next_cell": 2
   },
   "outputs": [],
   "source": []
  }
 ],
 "metadata": {
  "jupytext": {
   "cell_metadata_filter": "-all",
   "main_language": "python",
   "notebook_metadata_filter": "-all"
  }
 },
 "nbformat": 4,
 "nbformat_minor": 5
}
