{
 "cells": [
  {
   "cell_type": "markdown",
   "id": "c532a171",
   "metadata": {},
   "source": [
    "# The Global Object Store\n",
    "is a component in the Ray cluster that acts like a distributed key/value\n",
    "database.  It holds references to remote results, but can also be manipulated\n",
    "directly to hold named datasets."
   ]
  },
  {
   "cell_type": "code",
   "execution_count": null,
   "id": "f4d2dfc9",
   "metadata": {},
   "outputs": [],
   "source": [
    "import ray\n",
    "import boto3\n",
    "import pandas as pd"
   ]
  },
  {
   "cell_type": "markdown",
   "id": "7ddf3a91",
   "metadata": {},
   "source": [
    "# A Key/Value store"
   ]
  },
  {
   "cell_type": "code",
   "execution_count": null,
   "id": "0bd17357",
   "metadata": {},
   "outputs": [],
   "source": [
    "# This example loads a csv into the object store\n",
    "s3 = boto3.client('s3')\n",
    "bucket=\"anyscale-data\"\n",
    "key=\"imagenet/imagenet_2012_bounding_boxes.csv\"\n",
    "obj = s3.get_object(Bucket=bucket, Key=key)\n",
    "df = pd.read_csv(obj['Body'], names=[\"filename\",\"minx\",\"maxx\",\"miny\",\"maxy\"])"
   ]
  },
  {
   "cell_type": "code",
   "execution_count": null,
   "id": "3caeb0de",
   "metadata": {},
   "outputs": [],
   "source": [
    "# Now that I have a data frame, I can store it in the object store.\n",
    "# You can store any object that is serializable\n",
    "df_ref = ray.put(df)\n",
    "df_ref"
   ]
  },
  {
   "cell_type": "code",
   "execution_count": null,
   "id": "6671d048",
   "metadata": {},
   "outputs": [],
   "source": [
    "# You can get the object just like the result of a remote invocation\n",
    "df2 = ray.get(df_ref)\n",
    "df2"
   ]
  },
  {
   "cell_type": "markdown",
   "id": "f0d3fc5e",
   "metadata": {},
   "source": [
    "# Data Wrapping\n",
    "Use objects for shared state that is expensive to load."
   ]
  },
  {
   "cell_type": "code",
   "execution_count": null,
   "id": "5dfca611",
   "metadata": {
    "lines_to_next_cell": 1
   },
   "outputs": [],
   "source": [
    "# \n",
    "@ray.remote\n",
    "class DataWrapper:\n",
    "    def __init__(self):\n",
    "        import boto3\n",
    "        s3 = boto3.client('s3')\n",
    "        bucket=\"anyscale-data\"\n",
    "        key=\"imagenet/imagenet_2012_bounding_boxes.csv\"\n",
    "        obj = s3.get_object(Bucket=bucket, Key=key)\n",
    "        df = pd.read_csv(obj['Body'], names=[\"filename\",\"minx\",\"maxx\",\"miny\",\"maxy\"])\n",
    "        self.bounding_boxes = ray.put(df)\n",
    "\n",
    "    def get_bb(self):\n",
    "        return self.bounding_boxes"
   ]
  },
  {
   "cell_type": "code",
   "execution_count": null,
   "id": "c920eb0a",
   "metadata": {},
   "outputs": [],
   "source": [
    "@ray.remote\n",
    "class DataConsumer:\n",
    "    def __init__(self, bb_ref):\n",
    "        self.bounding_boxes = bb_ref\n",
    "\n",
    "    def areas(self):\n",
    "        df = ray.get(self.bounding_boxes)\n",
    "        return abs((df['maxx'] - df['minx']) * (df['maxy'] - df['miny']))"
   ]
  },
  {
   "cell_type": "code",
   "execution_count": null,
   "id": "d88ed292",
   "metadata": {},
   "outputs": [],
   "source": [
    "# Make a singleton remote object to hold the data\n",
    "a = DataWrapper.remote()\n",
    "bb_ref = a.get_bb.remote()"
   ]
  },
  {
   "cell_type": "code",
   "execution_count": null,
   "id": "b098d2ed",
   "metadata": {
    "lines_to_next_cell": 2
   },
   "outputs": [],
   "source": [
    "# Pass it as argument to constructor\n",
    "b = DataConsumer.remote(bb_ref)\n",
    "areas = ray.get(b.areas.remote())\n",
    "areas"
   ]
  }
 ],
 "metadata": {
  "jupytext": {
   "cell_metadata_filter": "-all",
   "main_language": "python",
   "notebook_metadata_filter": "-all"
  }
 },
 "nbformat": 4,
 "nbformat_minor": 5
}
