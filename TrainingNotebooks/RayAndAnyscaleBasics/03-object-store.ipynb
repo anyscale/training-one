{
 "cells": [
  {
   "cell_type": "markdown",
   "id": "b3428759",
   "metadata": {},
   "source": [
    "# The Global Object Store\n",
    "is a component in the Ray cluster that acts like a distributed key/value\n",
    "database.  It holds references to remote results, but can also be manipulated\n",
    "directly to hold named datasets."
   ]
  },
  {
   "cell_type": "code",
   "execution_count": null,
   "id": "1f962f32",
   "metadata": {},
   "outputs": [],
   "source": [
    "import ray\n",
    "import boto3\n",
    "import pandas as pd"
   ]
  },
  {
   "cell_type": "markdown",
   "id": "fa6dda5b",
   "metadata": {},
   "source": [
    "# A Key/Value store"
   ]
  },
  {
   "cell_type": "code",
   "execution_count": null,
   "id": "d0b26841",
   "metadata": {},
   "outputs": [],
   "source": [
    "# This example loads a csv into the object store\n",
    "s3 = boto3.client('s3')\n",
    "bucket=\"anyscale-data\"\n",
    "key=\"imagenet/imagenet_2012_bounding_boxes.csv\"\n",
    "obj = s3.get_object(Bucket=bucket, Key=key)\n",
    "df = pd.read_csv(obj['Body'], names=[\"filename\",\"minx\",\"maxx\",\"miny\",\"maxy\"])"
   ]
  },
  {
   "cell_type": "code",
   "execution_count": null,
   "id": "45eb2151",
   "metadata": {},
   "outputs": [],
   "source": [
    "# Now that I have a data frame, I can store it in the object store.\n",
    "# You can store any object that is serializable\n",
    "df_ref = ray.put(df)\n",
    "df_ref"
   ]
  },
  {
   "cell_type": "code",
   "execution_count": null,
   "id": "c6d21c65",
   "metadata": {},
   "outputs": [],
   "source": [
    "# You can get the object just like the result of a remote invocation\n",
    "df2 = ray.get(df_ref)\n",
    "df2"
   ]
  },
  {
   "cell_type": "markdown",
   "id": "1b3ba553",
   "metadata": {},
   "source": [
    "# Data Wrapping\n",
    "Use objects for shared state that is expensive to load."
   ]
  },
  {
   "cell_type": "code",
   "execution_count": null,
   "id": "b5f07914",
   "metadata": {
    "lines_to_next_cell": 1
   },
   "outputs": [],
   "source": [
    "# \n",
    "@ray.remote\n",
    "class DataWrapper:\n",
    "    def __init__(self):\n",
    "        import boto3\n",
    "        s3 = boto3.client('s3')\n",
    "        bucket=\"anyscale-data\"\n",
    "        key=\"imagenet/imagenet_2012_bounding_boxes.csv\"\n",
    "        obj = s3.get_object(Bucket=bucket, Key=key)\n",
    "        df = pd.read_csv(obj['Body'], names=[\"filename\",\"minx\",\"maxx\",\"miny\",\"maxy\"])\n",
    "        self.bounding_boxes = ray.put(df)\n",
    "\n",
    "    def get_bb(self):\n",
    "        return self.bounding_boxes"
   ]
  },
  {
   "cell_type": "code",
   "execution_count": null,
   "id": "35f7d4f8",
   "metadata": {},
   "outputs": [],
   "source": [
    "@ray.remote\n",
    "class DataConsumer:\n",
    "    def __init__(self, bb_ref):\n",
    "        self.bounding_boxes = bb_ref\n",
    "\n",
    "    def areas(self):\n",
    "        df = ray.get(self.bounding_boxes)\n",
    "        return abs((df['maxx'] - df['minx']) * (df['maxy'] - df['miny']))"
   ]
  },
  {
   "cell_type": "code",
   "execution_count": null,
   "id": "4fb4d699",
   "metadata": {},
   "outputs": [],
   "source": [
    "# Make a singleton remote object to hold the data\n",
    "a = DataWrapper.remote()\n",
    "bb_ref = a.get_bb.remote()"
   ]
  },
  {
   "cell_type": "code",
   "execution_count": null,
   "id": "0a581f7b",
   "metadata": {
    "lines_to_next_cell": 2
   },
   "outputs": [],
   "source": [
    "# Pass it as argument to constructor\n",
    "b = DataConsumer.remote(bb_ref)\n",
    "areas = ray.get(b.areas.remote())\n",
    "areas"
   ]
  }
 ],
 "metadata": {
  "jupytext": {
   "cell_metadata_filter": "-all",
   "main_language": "python",
   "notebook_metadata_filter": "-all"
  }
 },
 "nbformat": 4,
 "nbformat_minor": 5
}
