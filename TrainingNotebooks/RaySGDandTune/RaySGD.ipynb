{
 "cells": [
  {
   "cell_type": "code",
   "execution_count": 1,
   "id": "567994be",
   "metadata": {},
   "outputs": [
    {
     "name": "stderr",
     "output_type": "stream",
     "text": [
      "2021-08-30 14:18:17,294\tINFO worker.py:801 -- Connecting to existing Ray cluster at address: 172.31.107.75:6379\n"
     ]
    }
   ],
   "source": [
    "import ray\n",
    "ray.init()\n",
    "from ray import tune\n"
   ]
  },
  {
   "cell_type": "code",
   "execution_count": 2,
   "id": "042d7925",
   "metadata": {},
   "outputs": [
    {
     "data": {
      "text/plain": [
       "'1.5.2'"
      ]
     },
     "execution_count": 2,
     "metadata": {},
     "output_type": "execute_result"
    }
   ],
   "source": [
    "ray.__version__"
   ]
  },
  {
   "cell_type": "code",
   "execution_count": 7,
   "id": "769ac9c4",
   "metadata": {},
   "outputs": [],
   "source": [
    "import torch\n",
    "import torch.nn as nn\n",
    "from torch.utils.data import DataLoader\n",
    "\n",
    "from ray.util.sgd.torch import TrainingOperator\n",
    "from ray.util.sgd.torch.examples.train_example import LinearDataset"
   ]
  },
  {
   "cell_type": "code",
   "execution_count": 18,
   "id": "008e523a",
   "metadata": {},
   "outputs": [],
   "source": [
    "class MyTrainingOperator(TrainingOperator):\n",
    "    def setup(self, config):\n",
    "        # Setup all components needed for training here. This could include\n",
    "        # data, models, optimizers, loss & schedulers.\n",
    "\n",
    "        # Setup data loaders.\n",
    "        train_dataset, val_dataset = LinearDataset(2, 5), LinearDataset(2,\n",
    "                                                                        5)\n",
    "        train_loader = DataLoader(train_dataset,\n",
    "                                  batch_size=config[\"batch_size\"])\n",
    "        val_loader = DataLoader(val_dataset,\n",
    "                                batch_size=config[\"batch_size\"])\n",
    "\n",
    "        # Setup model.\n",
    "        model = nn.Linear(1, 1)\n",
    "\n",
    "        # Setup optimizer.\n",
    "        optimizer = torch.optim.SGD(model.parameters(), lr=config.get(\"lr\", 1e-4))\n",
    "\n",
    "        # Setup loss.\n",
    "        criterion = torch.nn.MSELoss()\n",
    "\n",
    "        # Setup scheduler.\n",
    "        scheduler = torch.optim.lr_scheduler.StepLR(optimizer, step_size=5, gamma=0.9)\n",
    "\n",
    "        # Register all of these components with Ray SGD.\n",
    "        # This allows Ray SGD to do framework level setup like Cuda, DDP,\n",
    "        # Distributed Sampling, FP16.\n",
    "        # We also assign the return values of self.register to instance\n",
    "        # attributes so we can access it in our custom training/validation\n",
    "        # methods.\n",
    "        self.model, self.optimizer, self.criterion, self.scheduler = \\\n",
    "            self.register(models=model, optimizers=optimizer,\n",
    "                          criterion=criterion,\n",
    "                          schedulers=scheduler)\n",
    "        self.register_data(train_loader=train_loader, validation_loader=val_loader)"
   ]
  },
  {
   "cell_type": "code",
   "execution_count": 22,
   "id": "26c43991",
   "metadata": {},
   "outputs": [
    {
     "name": "stderr",
     "output_type": "stream",
     "text": [
      "\u001b[2m\u001b[36m(pid=21973)\u001b[0m 2021-08-30 14:39:00,098\tINFO distributed_torch_runner.py:58 -- Setting up process group for: tcp://172.31.107.75:57193 [rank=0]\n",
      "\u001b[2m\u001b[36m(pid=22279)\u001b[0m 2021-08-30 14:39:00,699\tINFO distributed_torch_runner.py:58 -- Setting up process group for: tcp://172.31.107.75:57193 [rank=1]\n"
     ]
    }
   ],
   "source": [
    "from ray.util.sgd import TorchTrainer\n",
    "\n",
    "trainer = TorchTrainer(\n",
    "    training_operator_cls=MyTrainingOperator,\n",
    "    scheduler_step_freq=\"epoch\",  # if scheduler is used\n",
    "    config={\"lr\": 0.001, \"batch_size\": 64*64*64*64},\n",
    "    num_workers=2,\n",
    "    use_gpu=False)\n"
   ]
  },
  {
   "cell_type": "code",
   "execution_count": 24,
   "id": "46335fa6",
   "metadata": {},
   "outputs": [
    {
     "name": "stdout",
     "output_type": "stream",
     "text": [
      "{'num_samples': 1000, 'epoch': 11.0, 'batch_count': 1.0, 'train_loss': 81.68974304199219, 'last_train_loss': 81.68974304199219}\n",
      "{'num_samples': 1000, 'batch_count': 1.0, 'val_loss': 73.56553649902344, 'last_val_loss': 73.56553649902344, 'val_accuracy': 0.0, 'last_val_accuracy': 0.0}\n",
      "{'num_samples': 1000, 'epoch': 12.0, 'batch_count': 1.0, 'train_loss': 73.56553649902344, 'last_train_loss': 73.56553649902344}\n",
      "{'num_samples': 1000, 'batch_count': 1.0, 'val_loss': 66.31209182739258, 'last_val_loss': 66.31209182739258, 'val_accuracy': 0.0, 'last_val_accuracy': 0.0}\n",
      "{'num_samples': 1000, 'epoch': 13.0, 'batch_count': 1.0, 'train_loss': 66.31209182739258, 'last_train_loss': 66.31209182739258}\n",
      "{'num_samples': 1000, 'batch_count': 1.0, 'val_loss': 59.83603286743164, 'last_val_loss': 59.83603286743164, 'val_accuracy': 0.0, 'last_val_accuracy': 0.0}\n",
      "{'num_samples': 1000, 'epoch': 14.0, 'batch_count': 1.0, 'train_loss': 59.83603096008301, 'last_train_loss': 59.83603096008301}\n",
      "{'num_samples': 1000, 'batch_count': 1.0, 'val_loss': 54.05400085449219, 'last_val_loss': 54.05400085449219, 'val_accuracy': 0.0, 'last_val_accuracy': 0.0}\n",
      "{'num_samples': 1000, 'epoch': 15.0, 'batch_count': 1.0, 'train_loss': 54.053993225097656, 'last_train_loss': 54.053993225097656}\n",
      "{'num_samples': 1000, 'batch_count': 1.0, 'val_loss': 48.89154243469238, 'last_val_loss': 48.89154243469238, 'val_accuracy': 0.0, 'last_val_accuracy': 0.0}\n",
      "{'num_samples': 1000, 'epoch': 16.0, 'batch_count': 1.0, 'train_loss': 48.89154243469238, 'last_train_loss': 48.89154243469238}\n",
      "{'num_samples': 1000, 'batch_count': 1.0, 'val_loss': 44.73141098022461, 'last_val_loss': 44.73141098022461, 'val_accuracy': 0.0, 'last_val_accuracy': 0.0}\n",
      "{'num_samples': 1000, 'epoch': 17.0, 'batch_count': 1.0, 'train_loss': 44.73141098022461, 'last_train_loss': 44.73141098022461}\n",
      "{'num_samples': 1000, 'batch_count': 1.0, 'val_loss': 40.97354507446289, 'last_val_loss': 40.97354507446289, 'val_accuracy': 0.0, 'last_val_accuracy': 0.0}\n",
      "{'num_samples': 1000, 'epoch': 18.0, 'batch_count': 1.0, 'train_loss': 40.97354698181152, 'last_train_loss': 40.97354698181152}\n",
      "{'num_samples': 1000, 'batch_count': 1.0, 'val_loss': 37.579002380371094, 'last_val_loss': 37.579002380371094, 'val_accuracy': 0.0, 'last_val_accuracy': 0.0}\n",
      "{'num_samples': 1000, 'epoch': 19.0, 'batch_count': 1.0, 'train_loss': 37.57900428771973, 'last_train_loss': 37.57900428771973}\n",
      "{'num_samples': 1000, 'batch_count': 1.0, 'val_loss': 34.51262092590332, 'last_val_loss': 34.51262092590332, 'val_accuracy': 0.0, 'last_val_accuracy': 0.0}\n",
      "{'num_samples': 1000, 'epoch': 20.0, 'batch_count': 1.0, 'train_loss': 34.51262092590332, 'last_train_loss': 34.51262092590332}\n",
      "{'num_samples': 1000, 'batch_count': 1.0, 'val_loss': 31.742645263671875, 'last_val_loss': 31.742645263671875, 'val_accuracy': 0.0, 'last_val_accuracy': 0.0}\n",
      "success!\n"
     ]
    }
   ],
   "source": [
    "for i in range(10):\n",
    "    metrics = trainer.train()\n",
    "    print(metrics)\n",
    "    val_metrics = trainer.validate()\n",
    "    print(val_metrics)\n",
    "print(\"success!\")"
   ]
  },
  {
   "cell_type": "code",
   "execution_count": null,
   "id": "c3f4d7cf",
   "metadata": {},
   "outputs": [],
   "source": []
  }
 ],
 "metadata": {
  "kernelspec": {
   "display_name": "Python 3 (ipykernel)",
   "language": "python",
   "name": "python3"
  },
  "language_info": {
   "codemirror_mode": {
    "name": "ipython",
    "version": 3
   },
   "file_extension": ".py",
   "mimetype": "text/x-python",
   "name": "python",
   "nbconvert_exporter": "python",
   "pygments_lexer": "ipython3",
   "version": "3.7.7"
  }
 },
 "nbformat": 4,
 "nbformat_minor": 5
}
