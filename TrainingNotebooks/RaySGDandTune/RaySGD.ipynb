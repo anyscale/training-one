{
 "cells": [
  {
   "cell_type": "code",
   "execution_count": null,
   "id": "cd39ca72",
   "metadata": {},
   "outputs": [],
   "source": [
    "import ray\n",
    "ray.init()\n",
    "from ray import tune\n"
   ]
  },
  {
   "cell_type": "code",
   "execution_count": null,
   "id": "ada50645",
   "metadata": {},
   "outputs": [],
   "source": [
    "ray.__version__"
   ]
  },
  {
   "cell_type": "code",
   "execution_count": null,
   "id": "a545933e",
   "metadata": {},
   "outputs": [],
   "source": [
    "import torch\n",
    "import torch.nn as nn\n",
    "from torch.utils.data import DataLoader\n",
    "\n",
    "from ray.util.sgd.torch import TrainingOperator\n",
    "from ray.util.sgd.torch.examples.train_example import LinearDataset"
   ]
  },
  {
   "cell_type": "code",
   "execution_count": null,
   "id": "2a66b563",
   "metadata": {},
   "outputs": [],
   "source": [
    "class MyTrainingOperator(TrainingOperator):\n",
    "    def setup(self, config):\n",
    "        # Setup all components needed for training here. This could include\n",
    "        # data, models, optimizers, loss & schedulers.\n",
    "\n",
    "        # Setup data loaders.\n",
    "        train_dataset, val_dataset = LinearDataset(2, 5), LinearDataset(2,\n",
    "                                                                        5)\n",
    "        train_loader = DataLoader(train_dataset,\n",
    "                                  batch_size=config[\"batch_size\"])\n",
    "        val_loader = DataLoader(val_dataset,\n",
    "                                batch_size=config[\"batch_size\"])\n",
    "\n",
    "        # Setup model.\n",
    "        model = nn.Linear(1, 1)\n",
    "\n",
    "        # Setup optimizer.\n",
    "        optimizer = torch.optim.SGD(model.parameters(), lr=config.get(\"lr\", 1e-4))\n",
    "\n",
    "        # Setup loss.\n",
    "        criterion = torch.nn.MSELoss()\n",
    "\n",
    "        # Setup scheduler.\n",
    "        scheduler = torch.optim.lr_scheduler.StepLR(optimizer, step_size=5, gamma=0.9)\n",
    "\n",
    "        # Register all of these components with Ray SGD.\n",
    "        # This allows Ray SGD to do framework level setup like Cuda, DDP,\n",
    "        # Distributed Sampling, FP16.\n",
    "        # We also assign the return values of self.register to instance\n",
    "        # attributes so we can access it in our custom training/validation\n",
    "        # methods.\n",
    "        self.model, self.optimizer, self.criterion, self.scheduler = \\\n",
    "            self.register(models=model, optimizers=optimizer,\n",
    "                          criterion=criterion,\n",
    "                          schedulers=scheduler)\n",
    "        self.register_data(train_loader=train_loader, validation_loader=val_loader)"
   ]
  },
  {
   "cell_type": "code",
   "execution_count": null,
   "id": "7616a588",
   "metadata": {},
   "outputs": [],
   "source": [
    "from ray.util.sgd import TorchTrainer\n",
    "\n",
    "trainer = TorchTrainer(\n",
    "    training_operator_cls=MyTrainingOperator,\n",
    "    scheduler_step_freq=\"epoch\",  # if scheduler is used\n",
    "    config={\"lr\": 0.001, \"batch_size\": 64*64*64*64},\n",
    "    num_workers=2,\n",
    "    use_gpu=False)\n"
   ]
  },
  {
   "cell_type": "code",
   "execution_count": null,
   "id": "78230901",
   "metadata": {},
   "outputs": [],
   "source": [
    "for i in range(10):\n",
    "    metrics = trainer.train()\n",
    "    print(metrics)\n",
    "    val_metrics = trainer.validate()\n",
    "    print(val_metrics)\n",
    "print(\"success!\")"
   ]
  },
  {
   "cell_type": "code",
   "execution_count": null,
   "id": "4fcaeb6f",
   "metadata": {},
   "outputs": [],
   "source": []
  }
 ],
 "metadata": {
  "kernelspec": {
   "display_name": "Python 3 (ipykernel)",
   "language": "python",
   "name": "python3"
  },
  "language_info": {
   "codemirror_mode": {
    "name": "ipython",
    "version": 3
   },
   "file_extension": ".py",
   "mimetype": "text/x-python",
   "name": "python",
   "nbconvert_exporter": "python",
   "pygments_lexer": "ipython3",
   "version": "3.7.7"
  }
 },
 "nbformat": 4,
 "nbformat_minor": 5
}
